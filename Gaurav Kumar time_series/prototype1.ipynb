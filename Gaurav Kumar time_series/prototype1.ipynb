{
 "cells": [
  {
   "cell_type": "code",
   "execution_count": 1,
   "id": "prescribed-acting",
   "metadata": {},
   "outputs": [],
   "source": [
    "import pandas as pd\n",
    "import numpy as np\n",
    "import matplotlib.pyplot as plt\n",
    "%matplotlib inline\n",
    "import statsmodels.api as sm"
   ]
  },
  {
   "cell_type": "code",
   "execution_count": 2,
   "id": "signal-volunteer",
   "metadata": {},
   "outputs": [
    {
     "data": {
      "text/html": [
       "<div>\n",
       "<style scoped>\n",
       "    .dataframe tbody tr th:only-of-type {\n",
       "        vertical-align: middle;\n",
       "    }\n",
       "\n",
       "    .dataframe tbody tr th {\n",
       "        vertical-align: top;\n",
       "    }\n",
       "\n",
       "    .dataframe thead th {\n",
       "        text-align: right;\n",
       "    }\n",
       "</style>\n",
       "<table border=\"1\" class=\"dataframe\">\n",
       "  <thead>\n",
       "    <tr style=\"text-align: right;\">\n",
       "      <th></th>\n",
       "      <th>date dd.mm.yyyy</th>\n",
       "      <th>number</th>\n",
       "    </tr>\n",
       "  </thead>\n",
       "  <tbody>\n",
       "    <tr>\n",
       "      <th>0</th>\n",
       "      <td>28.11.2020</td>\n",
       "      <td>2 13 27 28 35 47</td>\n",
       "    </tr>\n",
       "    <tr>\n",
       "      <th>1</th>\n",
       "      <td>05.12.2020</td>\n",
       "      <td>4 7 8 14 33 47</td>\n",
       "    </tr>\n",
       "    <tr>\n",
       "      <th>2</th>\n",
       "      <td>12.12.2020</td>\n",
       "      <td>11 13 19 20 27 30</td>\n",
       "    </tr>\n",
       "    <tr>\n",
       "      <th>3</th>\n",
       "      <td>19.12.2020</td>\n",
       "      <td>9 32 33 34 38 43</td>\n",
       "    </tr>\n",
       "    <tr>\n",
       "      <th>4</th>\n",
       "      <td>26.12.2020</td>\n",
       "      <td>9 18 24 37 40 45</td>\n",
       "    </tr>\n",
       "  </tbody>\n",
       "</table>\n",
       "</div>"
      ],
      "text/plain": [
       "  date dd.mm.yyyy             number\n",
       "0      28.11.2020   2 13 27 28 35 47\n",
       "1      05.12.2020     4 7 8 14 33 47\n",
       "2      12.12.2020  11 13 19 20 27 30\n",
       "3      19.12.2020   9 32 33 34 38 43\n",
       "4      26.12.2020   9 18 24 37 40 45"
      ]
     },
     "execution_count": 2,
     "metadata": {},
     "output_type": "execute_result"
    }
   ],
   "source": [
    "data = pd.read_csv(\"upwork.csv\")\n",
    "data.head()"
   ]
  },
  {
   "cell_type": "code",
   "execution_count": 3,
   "id": "improved-concept",
   "metadata": {},
   "outputs": [],
   "source": [
    "data.columns = [\"Date\", \"Number\"]"
   ]
  },
  {
   "cell_type": "code",
   "execution_count": 4,
   "id": "attended-roulette",
   "metadata": {
    "scrolled": true
   },
   "outputs": [
    {
     "data": {
      "text/html": [
       "<div>\n",
       "<style scoped>\n",
       "    .dataframe tbody tr th:only-of-type {\n",
       "        vertical-align: middle;\n",
       "    }\n",
       "\n",
       "    .dataframe tbody tr th {\n",
       "        vertical-align: top;\n",
       "    }\n",
       "\n",
       "    .dataframe thead th {\n",
       "        text-align: right;\n",
       "    }\n",
       "</style>\n",
       "<table border=\"1\" class=\"dataframe\">\n",
       "  <thead>\n",
       "    <tr style=\"text-align: right;\">\n",
       "      <th></th>\n",
       "      <th>Date</th>\n",
       "      <th>Number</th>\n",
       "    </tr>\n",
       "  </thead>\n",
       "  <tbody>\n",
       "    <tr>\n",
       "      <th>0</th>\n",
       "      <td>28.11.2020</td>\n",
       "      <td>2 13 27 28 35 47</td>\n",
       "    </tr>\n",
       "    <tr>\n",
       "      <th>1</th>\n",
       "      <td>05.12.2020</td>\n",
       "      <td>4 7 8 14 33 47</td>\n",
       "    </tr>\n",
       "    <tr>\n",
       "      <th>2</th>\n",
       "      <td>12.12.2020</td>\n",
       "      <td>11 13 19 20 27 30</td>\n",
       "    </tr>\n",
       "    <tr>\n",
       "      <th>3</th>\n",
       "      <td>19.12.2020</td>\n",
       "      <td>9 32 33 34 38 43</td>\n",
       "    </tr>\n",
       "    <tr>\n",
       "      <th>4</th>\n",
       "      <td>26.12.2020</td>\n",
       "      <td>9 18 24 37 40 45</td>\n",
       "    </tr>\n",
       "  </tbody>\n",
       "</table>\n",
       "</div>"
      ],
      "text/plain": [
       "         Date             Number\n",
       "0  28.11.2020   2 13 27 28 35 47\n",
       "1  05.12.2020     4 7 8 14 33 47\n",
       "2  12.12.2020  11 13 19 20 27 30\n",
       "3  19.12.2020   9 32 33 34 38 43\n",
       "4  26.12.2020   9 18 24 37 40 45"
      ]
     },
     "execution_count": 4,
     "metadata": {},
     "output_type": "execute_result"
    }
   ],
   "source": [
    "data.head()"
   ]
  },
  {
   "cell_type": "code",
   "execution_count": 5,
   "id": "israeli-plain",
   "metadata": {},
   "outputs": [
    {
     "data": {
      "text/html": [
       "<div>\n",
       "<style scoped>\n",
       "    .dataframe tbody tr th:only-of-type {\n",
       "        vertical-align: middle;\n",
       "    }\n",
       "\n",
       "    .dataframe tbody tr th {\n",
       "        vertical-align: top;\n",
       "    }\n",
       "\n",
       "    .dataframe thead th {\n",
       "        text-align: right;\n",
       "    }\n",
       "</style>\n",
       "<table border=\"1\" class=\"dataframe\">\n",
       "  <thead>\n",
       "    <tr style=\"text-align: right;\">\n",
       "      <th></th>\n",
       "      <th>Date</th>\n",
       "      <th>Number</th>\n",
       "    </tr>\n",
       "  </thead>\n",
       "  <tbody>\n",
       "    <tr>\n",
       "      <th>77</th>\n",
       "      <td>21.05.2022</td>\n",
       "      <td>1 24 29 31 46</td>\n",
       "    </tr>\n",
       "    <tr>\n",
       "      <th>78</th>\n",
       "      <td>28.05.2022</td>\n",
       "      <td>5 10 14 33 37</td>\n",
       "    </tr>\n",
       "    <tr>\n",
       "      <th>79</th>\n",
       "      <td>04.06.2022</td>\n",
       "      <td>6 11 13 17 19</td>\n",
       "    </tr>\n",
       "    <tr>\n",
       "      <th>80</th>\n",
       "      <td>11.06.2022</td>\n",
       "      <td>6 22 23 39 48</td>\n",
       "    </tr>\n",
       "    <tr>\n",
       "      <th>81</th>\n",
       "      <td>18.06.2022</td>\n",
       "      <td>6 18 28 38 42</td>\n",
       "    </tr>\n",
       "  </tbody>\n",
       "</table>\n",
       "</div>"
      ],
      "text/plain": [
       "          Date         Number\n",
       "77  21.05.2022  1 24 29 31 46\n",
       "78  28.05.2022  5 10 14 33 37\n",
       "79  04.06.2022  6 11 13 17 19\n",
       "80  11.06.2022  6 22 23 39 48\n",
       "81  18.06.2022  6 18 28 38 42"
      ]
     },
     "execution_count": 5,
     "metadata": {},
     "output_type": "execute_result"
    }
   ],
   "source": [
    "data.tail()"
   ]
  },
  {
   "cell_type": "code",
   "execution_count": 6,
   "id": "lightweight-penetration",
   "metadata": {},
   "outputs": [],
   "source": [
    "df1 = data.copy()"
   ]
  },
  {
   "cell_type": "code",
   "execution_count": 7,
   "id": "resistant-renewal",
   "metadata": {},
   "outputs": [
    {
     "data": {
      "text/html": [
       "<div>\n",
       "<style scoped>\n",
       "    .dataframe tbody tr th:only-of-type {\n",
       "        vertical-align: middle;\n",
       "    }\n",
       "\n",
       "    .dataframe tbody tr th {\n",
       "        vertical-align: top;\n",
       "    }\n",
       "\n",
       "    .dataframe thead th {\n",
       "        text-align: right;\n",
       "    }\n",
       "</style>\n",
       "<table border=\"1\" class=\"dataframe\">\n",
       "  <thead>\n",
       "    <tr style=\"text-align: right;\">\n",
       "      <th></th>\n",
       "      <th>Date</th>\n",
       "      <th>Number</th>\n",
       "    </tr>\n",
       "  </thead>\n",
       "  <tbody>\n",
       "    <tr>\n",
       "      <th>0</th>\n",
       "      <td>2020-11-28</td>\n",
       "      <td>2 13 27 28 35 47</td>\n",
       "    </tr>\n",
       "    <tr>\n",
       "      <th>1</th>\n",
       "      <td>2020-05-12</td>\n",
       "      <td>4 7 8 14 33 47</td>\n",
       "    </tr>\n",
       "    <tr>\n",
       "      <th>2</th>\n",
       "      <td>2020-12-12</td>\n",
       "      <td>11 13 19 20 27 30</td>\n",
       "    </tr>\n",
       "    <tr>\n",
       "      <th>3</th>\n",
       "      <td>2020-12-19</td>\n",
       "      <td>9 32 33 34 38 43</td>\n",
       "    </tr>\n",
       "    <tr>\n",
       "      <th>4</th>\n",
       "      <td>2020-12-26</td>\n",
       "      <td>9 18 24 37 40 45</td>\n",
       "    </tr>\n",
       "  </tbody>\n",
       "</table>\n",
       "</div>"
      ],
      "text/plain": [
       "        Date             Number\n",
       "0 2020-11-28   2 13 27 28 35 47\n",
       "1 2020-05-12     4 7 8 14 33 47\n",
       "2 2020-12-12  11 13 19 20 27 30\n",
       "3 2020-12-19   9 32 33 34 38 43\n",
       "4 2020-12-26   9 18 24 37 40 45"
      ]
     },
     "execution_count": 7,
     "metadata": {},
     "output_type": "execute_result"
    }
   ],
   "source": [
    "df1.Date = pd.to_datetime(df1.Date)\n",
    "df1.head()"
   ]
  },
  {
   "cell_type": "code",
   "execution_count": 8,
   "id": "monthly-agency",
   "metadata": {},
   "outputs": [],
   "source": [
    "df2 = df1.copy()"
   ]
  },
  {
   "cell_type": "code",
   "execution_count": 9,
   "id": "selective-sessions",
   "metadata": {},
   "outputs": [
    {
     "data": {
      "text/html": [
       "<div>\n",
       "<style scoped>\n",
       "    .dataframe tbody tr th:only-of-type {\n",
       "        vertical-align: middle;\n",
       "    }\n",
       "\n",
       "    .dataframe tbody tr th {\n",
       "        vertical-align: top;\n",
       "    }\n",
       "\n",
       "    .dataframe thead th {\n",
       "        text-align: right;\n",
       "    }\n",
       "</style>\n",
       "<table border=\"1\" class=\"dataframe\">\n",
       "  <thead>\n",
       "    <tr style=\"text-align: right;\">\n",
       "      <th></th>\n",
       "      <th>Date</th>\n",
       "      <th>Number</th>\n",
       "    </tr>\n",
       "    <tr>\n",
       "      <th>Date</th>\n",
       "      <th></th>\n",
       "      <th></th>\n",
       "    </tr>\n",
       "  </thead>\n",
       "  <tbody>\n",
       "    <tr>\n",
       "      <th>2020-11-28</th>\n",
       "      <td>2020-11-28</td>\n",
       "      <td>2 13 27 28 35 47</td>\n",
       "    </tr>\n",
       "    <tr>\n",
       "      <th>2020-05-12</th>\n",
       "      <td>2020-05-12</td>\n",
       "      <td>4 7 8 14 33 47</td>\n",
       "    </tr>\n",
       "    <tr>\n",
       "      <th>2020-12-12</th>\n",
       "      <td>2020-12-12</td>\n",
       "      <td>11 13 19 20 27 30</td>\n",
       "    </tr>\n",
       "    <tr>\n",
       "      <th>2020-12-19</th>\n",
       "      <td>2020-12-19</td>\n",
       "      <td>9 32 33 34 38 43</td>\n",
       "    </tr>\n",
       "    <tr>\n",
       "      <th>2020-12-26</th>\n",
       "      <td>2020-12-26</td>\n",
       "      <td>9 18 24 37 40 45</td>\n",
       "    </tr>\n",
       "  </tbody>\n",
       "</table>\n",
       "</div>"
      ],
      "text/plain": [
       "                 Date             Number\n",
       "Date                                    \n",
       "2020-11-28 2020-11-28   2 13 27 28 35 47\n",
       "2020-05-12 2020-05-12     4 7 8 14 33 47\n",
       "2020-12-12 2020-12-12  11 13 19 20 27 30\n",
       "2020-12-19 2020-12-19   9 32 33 34 38 43\n",
       "2020-12-26 2020-12-26   9 18 24 37 40 45"
      ]
     },
     "execution_count": 9,
     "metadata": {},
     "output_type": "execute_result"
    }
   ],
   "source": [
    "df2.set_index(df2.Date, inplace=True)\n",
    "df2.head()"
   ]
  },
  {
   "cell_type": "code",
   "execution_count": 10,
   "id": "satisfactory-density",
   "metadata": {},
   "outputs": [
    {
     "data": {
      "text/html": [
       "<div>\n",
       "<style scoped>\n",
       "    .dataframe tbody tr th:only-of-type {\n",
       "        vertical-align: middle;\n",
       "    }\n",
       "\n",
       "    .dataframe tbody tr th {\n",
       "        vertical-align: top;\n",
       "    }\n",
       "\n",
       "    .dataframe thead th {\n",
       "        text-align: right;\n",
       "    }\n",
       "</style>\n",
       "<table border=\"1\" class=\"dataframe\">\n",
       "  <thead>\n",
       "    <tr style=\"text-align: right;\">\n",
       "      <th></th>\n",
       "      <th>Number</th>\n",
       "    </tr>\n",
       "    <tr>\n",
       "      <th>Date</th>\n",
       "      <th></th>\n",
       "    </tr>\n",
       "  </thead>\n",
       "  <tbody>\n",
       "    <tr>\n",
       "      <th>2020-11-28</th>\n",
       "      <td>2 13 27 28 35 47</td>\n",
       "    </tr>\n",
       "    <tr>\n",
       "      <th>2020-05-12</th>\n",
       "      <td>4 7 8 14 33 47</td>\n",
       "    </tr>\n",
       "    <tr>\n",
       "      <th>2020-12-12</th>\n",
       "      <td>11 13 19 20 27 30</td>\n",
       "    </tr>\n",
       "    <tr>\n",
       "      <th>2020-12-19</th>\n",
       "      <td>9 32 33 34 38 43</td>\n",
       "    </tr>\n",
       "    <tr>\n",
       "      <th>2020-12-26</th>\n",
       "      <td>9 18 24 37 40 45</td>\n",
       "    </tr>\n",
       "  </tbody>\n",
       "</table>\n",
       "</div>"
      ],
      "text/plain": [
       "                       Number\n",
       "Date                         \n",
       "2020-11-28   2 13 27 28 35 47\n",
       "2020-05-12     4 7 8 14 33 47\n",
       "2020-12-12  11 13 19 20 27 30\n",
       "2020-12-19   9 32 33 34 38 43\n",
       "2020-12-26   9 18 24 37 40 45"
      ]
     },
     "execution_count": 10,
     "metadata": {},
     "output_type": "execute_result"
    }
   ],
   "source": [
    "df3 = df2.drop(\"Date\", axis=\"columns\")\n",
    "df3.head()"
   ]
  },
  {
   "cell_type": "code",
   "execution_count": 11,
   "id": "animated-dutch",
   "metadata": {},
   "outputs": [
    {
     "data": {
      "text/plain": [
       "Number    4 26 36 37 38\n",
       "Name: 2021-06-11 00:00:00, dtype: object"
      ]
     },
     "execution_count": 11,
     "metadata": {},
     "output_type": "execute_result"
    }
   ],
   "source": [
    "df3.iloc[49, :]"
   ]
  },
  {
   "cell_type": "code",
   "execution_count": 12,
   "id": "optimum-building",
   "metadata": {},
   "outputs": [
    {
     "data": {
      "text/plain": [
       "82"
      ]
     },
     "execution_count": 12,
     "metadata": {},
     "output_type": "execute_result"
    }
   ],
   "source": [
    "len(df3)"
   ]
  },
  {
   "cell_type": "code",
   "execution_count": 13,
   "id": "lonely-import",
   "metadata": {
    "scrolled": true
   },
   "outputs": [
    {
     "name": "stdout",
     "output_type": "stream",
     "text": [
      "<class 'pandas.core.frame.DataFrame'>\n",
      "DatetimeIndex: 82 entries, 2020-11-28 to 2022-06-18\n",
      "Data columns (total 1 columns):\n",
      " #   Column  Non-Null Count  Dtype \n",
      "---  ------  --------------  ----- \n",
      " 0   Number  82 non-null     object\n",
      "dtypes: object(1)\n",
      "memory usage: 1.3+ KB\n"
     ]
    }
   ],
   "source": [
    "df3.info()"
   ]
  },
  {
   "cell_type": "code",
   "execution_count": 14,
   "id": "crude-express",
   "metadata": {},
   "outputs": [
    {
     "data": {
      "text/html": [
       "<div>\n",
       "<style scoped>\n",
       "    .dataframe tbody tr th:only-of-type {\n",
       "        vertical-align: middle;\n",
       "    }\n",
       "\n",
       "    .dataframe tbody tr th {\n",
       "        vertical-align: top;\n",
       "    }\n",
       "\n",
       "    .dataframe thead th {\n",
       "        text-align: right;\n",
       "    }\n",
       "</style>\n",
       "<table border=\"1\" class=\"dataframe\">\n",
       "  <thead>\n",
       "    <tr style=\"text-align: right;\">\n",
       "      <th></th>\n",
       "      <th>Number</th>\n",
       "    </tr>\n",
       "  </thead>\n",
       "  <tbody>\n",
       "    <tr>\n",
       "      <th>count</th>\n",
       "      <td>82</td>\n",
       "    </tr>\n",
       "    <tr>\n",
       "      <th>unique</th>\n",
       "      <td>81</td>\n",
       "    </tr>\n",
       "    <tr>\n",
       "      <th>top</th>\n",
       "      <td>6 22 23 39 48</td>\n",
       "    </tr>\n",
       "    <tr>\n",
       "      <th>freq</th>\n",
       "      <td>2</td>\n",
       "    </tr>\n",
       "  </tbody>\n",
       "</table>\n",
       "</div>"
      ],
      "text/plain": [
       "               Number\n",
       "count              82\n",
       "unique             81\n",
       "top     6 22 23 39 48\n",
       "freq                2"
      ]
     },
     "execution_count": 14,
     "metadata": {},
     "output_type": "execute_result"
    }
   ],
   "source": [
    "df3.describe()"
   ]
  },
  {
   "cell_type": "code",
   "execution_count": 15,
   "id": "given-address",
   "metadata": {
    "scrolled": true
   },
   "outputs": [
    {
     "data": {
      "text/html": [
       "<div>\n",
       "<style scoped>\n",
       "    .dataframe tbody tr th:only-of-type {\n",
       "        vertical-align: middle;\n",
       "    }\n",
       "\n",
       "    .dataframe tbody tr th {\n",
       "        vertical-align: top;\n",
       "    }\n",
       "\n",
       "    .dataframe thead th {\n",
       "        text-align: right;\n",
       "    }\n",
       "</style>\n",
       "<table border=\"1\" class=\"dataframe\">\n",
       "  <thead>\n",
       "    <tr style=\"text-align: right;\">\n",
       "      <th></th>\n",
       "      <th>Number</th>\n",
       "    </tr>\n",
       "    <tr>\n",
       "      <th>Date</th>\n",
       "      <th></th>\n",
       "    </tr>\n",
       "  </thead>\n",
       "  <tbody>\n",
       "    <tr>\n",
       "      <th>2022-05-21</th>\n",
       "      <td>1 24 29 31 46</td>\n",
       "    </tr>\n",
       "    <tr>\n",
       "      <th>2022-05-28</th>\n",
       "      <td>5 10 14 33 37</td>\n",
       "    </tr>\n",
       "    <tr>\n",
       "      <th>2022-04-06</th>\n",
       "      <td>6 11 13 17 19</td>\n",
       "    </tr>\n",
       "    <tr>\n",
       "      <th>2022-11-06</th>\n",
       "      <td>6 22 23 39 48</td>\n",
       "    </tr>\n",
       "    <tr>\n",
       "      <th>2022-06-18</th>\n",
       "      <td>6 18 28 38 42</td>\n",
       "    </tr>\n",
       "  </tbody>\n",
       "</table>\n",
       "</div>"
      ],
      "text/plain": [
       "                   Number\n",
       "Date                     \n",
       "2022-05-21  1 24 29 31 46\n",
       "2022-05-28  5 10 14 33 37\n",
       "2022-04-06  6 11 13 17 19\n",
       "2022-11-06  6 22 23 39 48\n",
       "2022-06-18  6 18 28 38 42"
      ]
     },
     "execution_count": 15,
     "metadata": {},
     "output_type": "execute_result"
    }
   ],
   "source": [
    "df4 = df3.copy()\n",
    "df4.tail()"
   ]
  },
  {
   "cell_type": "code",
   "execution_count": 16,
   "id": "great-quantity",
   "metadata": {},
   "outputs": [
    {
     "data": {
      "text/html": [
       "<div>\n",
       "<style scoped>\n",
       "    .dataframe tbody tr th:only-of-type {\n",
       "        vertical-align: middle;\n",
       "    }\n",
       "\n",
       "    .dataframe tbody tr th {\n",
       "        vertical-align: top;\n",
       "    }\n",
       "\n",
       "    .dataframe thead th {\n",
       "        text-align: right;\n",
       "    }\n",
       "</style>\n",
       "<table border=\"1\" class=\"dataframe\">\n",
       "  <thead>\n",
       "    <tr style=\"text-align: right;\">\n",
       "      <th></th>\n",
       "      <th>Number</th>\n",
       "    </tr>\n",
       "    <tr>\n",
       "      <th>Date</th>\n",
       "      <th></th>\n",
       "    </tr>\n",
       "  </thead>\n",
       "  <tbody>\n",
       "    <tr>\n",
       "      <th>2022-11-06</th>\n",
       "      <td>6 22 23 39 48</td>\n",
       "    </tr>\n",
       "    <tr>\n",
       "      <th>2022-05-21</th>\n",
       "      <td>1 24 29 31 46</td>\n",
       "    </tr>\n",
       "    <tr>\n",
       "      <th>2022-05-28</th>\n",
       "      <td>5 10 14 33 37</td>\n",
       "    </tr>\n",
       "    <tr>\n",
       "      <th>2022-04-06</th>\n",
       "      <td>6 11 13 17 19</td>\n",
       "    </tr>\n",
       "    <tr>\n",
       "      <th>2022-11-06</th>\n",
       "      <td>6 22 23 39 48</td>\n",
       "    </tr>\n",
       "  </tbody>\n",
       "</table>\n",
       "</div>"
      ],
      "text/plain": [
       "                   Number\n",
       "Date                     \n",
       "2022-11-06  6 22 23 39 48\n",
       "2022-05-21  1 24 29 31 46\n",
       "2022-05-28  5 10 14 33 37\n",
       "2022-04-06  6 11 13 17 19\n",
       "2022-11-06  6 22 23 39 48"
      ]
     },
     "execution_count": 16,
     "metadata": {},
     "output_type": "execute_result"
    }
   ],
   "source": [
    "df5 = df4.iloc[:-1, :]\n",
    "df5.tail()"
   ]
  },
  {
   "cell_type": "code",
   "execution_count": 17,
   "id": "norman-nightlife",
   "metadata": {},
   "outputs": [],
   "source": [
    "col1 = []\n",
    "col2 = []\n",
    "col3 = []\n",
    "col4 = []\n",
    "col5 = []\n",
    "col6 = []\n",
    "for i in range(len(df5)):\n",
    "    val = df5.iloc[i, :].values[0].split(\" \")\n",
    "#     print(i)\n",
    "    col1.append(int(val[0]))\n",
    "    col2.append(int(val[1]))\n",
    "    col3.append(int(val[2]))\n",
    "    col4.append(int(val[3]))\n",
    "    col5.append(int(val[4]))\n",
    "    if len(val)>5:\n",
    "        col6.append(int(val[5]))\n",
    "    elif len(val)==5:\n",
    "        col6.append(0)\n",
    "    "
   ]
  },
  {
   "cell_type": "code",
   "execution_count": 18,
   "id": "short-mississippi",
   "metadata": {},
   "outputs": [],
   "source": [
    "df6 = df5.copy()"
   ]
  },
  {
   "cell_type": "code",
   "execution_count": 19,
   "id": "complicated-compact",
   "metadata": {},
   "outputs": [],
   "source": [
    "df6[\"Number1\"] = col1\n",
    "df6[\"Number2\"] = col2\n",
    "df6[\"Number3\"] = col3\n",
    "df6[\"Number4\"] = col4\n",
    "df6[\"Number5\"] = col5\n",
    "df6[\"Number6\"] = col6"
   ]
  },
  {
   "cell_type": "code",
   "execution_count": 20,
   "id": "fossil-solution",
   "metadata": {},
   "outputs": [
    {
     "data": {
      "text/html": [
       "<div>\n",
       "<style scoped>\n",
       "    .dataframe tbody tr th:only-of-type {\n",
       "        vertical-align: middle;\n",
       "    }\n",
       "\n",
       "    .dataframe tbody tr th {\n",
       "        vertical-align: top;\n",
       "    }\n",
       "\n",
       "    .dataframe thead th {\n",
       "        text-align: right;\n",
       "    }\n",
       "</style>\n",
       "<table border=\"1\" class=\"dataframe\">\n",
       "  <thead>\n",
       "    <tr style=\"text-align: right;\">\n",
       "      <th></th>\n",
       "      <th>Number</th>\n",
       "      <th>Number1</th>\n",
       "      <th>Number2</th>\n",
       "      <th>Number3</th>\n",
       "      <th>Number4</th>\n",
       "      <th>Number5</th>\n",
       "      <th>Number6</th>\n",
       "    </tr>\n",
       "    <tr>\n",
       "      <th>Date</th>\n",
       "      <th></th>\n",
       "      <th></th>\n",
       "      <th></th>\n",
       "      <th></th>\n",
       "      <th></th>\n",
       "      <th></th>\n",
       "      <th></th>\n",
       "    </tr>\n",
       "  </thead>\n",
       "  <tbody>\n",
       "    <tr>\n",
       "      <th>2020-11-28</th>\n",
       "      <td>2 13 27 28 35 47</td>\n",
       "      <td>2</td>\n",
       "      <td>13</td>\n",
       "      <td>27</td>\n",
       "      <td>28</td>\n",
       "      <td>35</td>\n",
       "      <td>47</td>\n",
       "    </tr>\n",
       "    <tr>\n",
       "      <th>2020-05-12</th>\n",
       "      <td>4 7 8 14 33 47</td>\n",
       "      <td>4</td>\n",
       "      <td>7</td>\n",
       "      <td>8</td>\n",
       "      <td>14</td>\n",
       "      <td>33</td>\n",
       "      <td>47</td>\n",
       "    </tr>\n",
       "    <tr>\n",
       "      <th>2020-12-12</th>\n",
       "      <td>11 13 19 20 27 30</td>\n",
       "      <td>11</td>\n",
       "      <td>13</td>\n",
       "      <td>19</td>\n",
       "      <td>20</td>\n",
       "      <td>27</td>\n",
       "      <td>30</td>\n",
       "    </tr>\n",
       "    <tr>\n",
       "      <th>2020-12-19</th>\n",
       "      <td>9 32 33 34 38 43</td>\n",
       "      <td>9</td>\n",
       "      <td>32</td>\n",
       "      <td>33</td>\n",
       "      <td>34</td>\n",
       "      <td>38</td>\n",
       "      <td>43</td>\n",
       "    </tr>\n",
       "    <tr>\n",
       "      <th>2020-12-26</th>\n",
       "      <td>9 18 24 37 40 45</td>\n",
       "      <td>9</td>\n",
       "      <td>18</td>\n",
       "      <td>24</td>\n",
       "      <td>37</td>\n",
       "      <td>40</td>\n",
       "      <td>45</td>\n",
       "    </tr>\n",
       "  </tbody>\n",
       "</table>\n",
       "</div>"
      ],
      "text/plain": [
       "                       Number  Number1  Number2  Number3  Number4  Number5  \\\n",
       "Date                                                                         \n",
       "2020-11-28   2 13 27 28 35 47        2       13       27       28       35   \n",
       "2020-05-12     4 7 8 14 33 47        4        7        8       14       33   \n",
       "2020-12-12  11 13 19 20 27 30       11       13       19       20       27   \n",
       "2020-12-19   9 32 33 34 38 43        9       32       33       34       38   \n",
       "2020-12-26   9 18 24 37 40 45        9       18       24       37       40   \n",
       "\n",
       "            Number6  \n",
       "Date                 \n",
       "2020-11-28       47  \n",
       "2020-05-12       47  \n",
       "2020-12-12       30  \n",
       "2020-12-19       43  \n",
       "2020-12-26       45  "
      ]
     },
     "execution_count": 20,
     "metadata": {},
     "output_type": "execute_result"
    }
   ],
   "source": [
    "df6.head()"
   ]
  },
  {
   "cell_type": "code",
   "execution_count": 21,
   "id": "increasing-testimony",
   "metadata": {},
   "outputs": [],
   "source": [
    "df7 = df6.copy()"
   ]
  },
  {
   "cell_type": "code",
   "execution_count": 22,
   "id": "numeric-offering",
   "metadata": {},
   "outputs": [
    {
     "data": {
      "text/html": [
       "<div>\n",
       "<style scoped>\n",
       "    .dataframe tbody tr th:only-of-type {\n",
       "        vertical-align: middle;\n",
       "    }\n",
       "\n",
       "    .dataframe tbody tr th {\n",
       "        vertical-align: top;\n",
       "    }\n",
       "\n",
       "    .dataframe thead th {\n",
       "        text-align: right;\n",
       "    }\n",
       "</style>\n",
       "<table border=\"1\" class=\"dataframe\">\n",
       "  <thead>\n",
       "    <tr style=\"text-align: right;\">\n",
       "      <th></th>\n",
       "      <th>Number1</th>\n",
       "      <th>Number2</th>\n",
       "      <th>Number3</th>\n",
       "      <th>Number4</th>\n",
       "      <th>Number5</th>\n",
       "      <th>Number6</th>\n",
       "    </tr>\n",
       "    <tr>\n",
       "      <th>Date</th>\n",
       "      <th></th>\n",
       "      <th></th>\n",
       "      <th></th>\n",
       "      <th></th>\n",
       "      <th></th>\n",
       "      <th></th>\n",
       "    </tr>\n",
       "  </thead>\n",
       "  <tbody>\n",
       "    <tr>\n",
       "      <th>2020-11-28</th>\n",
       "      <td>2</td>\n",
       "      <td>13</td>\n",
       "      <td>27</td>\n",
       "      <td>28</td>\n",
       "      <td>35</td>\n",
       "      <td>47</td>\n",
       "    </tr>\n",
       "    <tr>\n",
       "      <th>2020-05-12</th>\n",
       "      <td>4</td>\n",
       "      <td>7</td>\n",
       "      <td>8</td>\n",
       "      <td>14</td>\n",
       "      <td>33</td>\n",
       "      <td>47</td>\n",
       "    </tr>\n",
       "    <tr>\n",
       "      <th>2020-12-12</th>\n",
       "      <td>11</td>\n",
       "      <td>13</td>\n",
       "      <td>19</td>\n",
       "      <td>20</td>\n",
       "      <td>27</td>\n",
       "      <td>30</td>\n",
       "    </tr>\n",
       "    <tr>\n",
       "      <th>2020-12-19</th>\n",
       "      <td>9</td>\n",
       "      <td>32</td>\n",
       "      <td>33</td>\n",
       "      <td>34</td>\n",
       "      <td>38</td>\n",
       "      <td>43</td>\n",
       "    </tr>\n",
       "    <tr>\n",
       "      <th>2020-12-26</th>\n",
       "      <td>9</td>\n",
       "      <td>18</td>\n",
       "      <td>24</td>\n",
       "      <td>37</td>\n",
       "      <td>40</td>\n",
       "      <td>45</td>\n",
       "    </tr>\n",
       "  </tbody>\n",
       "</table>\n",
       "</div>"
      ],
      "text/plain": [
       "            Number1  Number2  Number3  Number4  Number5  Number6\n",
       "Date                                                            \n",
       "2020-11-28        2       13       27       28       35       47\n",
       "2020-05-12        4        7        8       14       33       47\n",
       "2020-12-12       11       13       19       20       27       30\n",
       "2020-12-19        9       32       33       34       38       43\n",
       "2020-12-26        9       18       24       37       40       45"
      ]
     },
     "execution_count": 22,
     "metadata": {},
     "output_type": "execute_result"
    }
   ],
   "source": [
    "df7 = df7.drop(\"Number\", axis=\"columns\")\n",
    "df7.head()"
   ]
  },
  {
   "cell_type": "code",
   "execution_count": 23,
   "id": "abroad-brook",
   "metadata": {},
   "outputs": [
    {
     "data": {
      "image/png": "[encoded data removed]",
      "text/plain": [
       "<Figure size 720x720 with 6 Axes>"
      ]
     },
     "metadata": {
      "needs_background": "light"
     },
     "output_type": "display_data"
    }
   ],
   "source": [
    "plt.figure(figsize=(10, 10))\n",
    "for i in range(6):\n",
    "    plt.subplot(3, 4, i+1)\n",
    "    plt.plot(df7[f\"Number{i+1}\"])"
   ]
  },
  {
   "cell_type": "code",
   "execution_count": 24,
   "id": "satellite-morning",
   "metadata": {},
   "outputs": [
    {
     "data": {
      "image/png": "[encoded data removed]",
      "text/plain": [
       "<Figure size 432x288 with 1 Axes>"
      ]
     },
     "metadata": {
      "needs_background": "light"
     },
     "output_type": "display_data"
    }
   ],
   "source": [
    "from statsmodels.graphics.tsaplots import plot_acf, plot_pacf\n",
    "plot_acf(df7.Number1);"
   ]
  },
  {
   "cell_type": "code",
   "execution_count": 25,
   "id": "searching-repository",
   "metadata": {},
   "outputs": [
    {
     "data": {
      "image/png": "[encoded data removed]",
      "text/plain": [
       "<Figure size 432x288 with 1 Axes>"
      ]
     },
     "metadata": {
      "needs_background": "light"
     },
     "output_type": "display_data"
    }
   ],
   "source": [
    "import warnings\n",
    "warnings.filterwarnings(\"ignore\")\n",
    "plot_pacf(df7.Number1);"
   ]
  },
  {
   "cell_type": "code",
   "execution_count": 26,
   "id": "public-blanket",
   "metadata": {},
   "outputs": [],
   "source": [
    "train = df7[:-8]\n",
    "test = df7[-8:]"
   ]
  },
  {
   "cell_type": "code",
   "execution_count": 27,
   "id": "worse-holiday",
   "metadata": {},
   "outputs": [
    {
     "data": {
      "text/plain": [
       "<AxesSubplot:xlabel='Date'>"
      ]
     },
     "execution_count": 27,
     "metadata": {},
     "output_type": "execute_result"
    },
    {
     "data": {
      "image/png": "[encoded data removed]",
      "text/plain": [
       "<Figure size 432x288 with 1 Axes>"
      ]
     },
     "metadata": {
      "needs_background": "light"
     },
     "output_type": "display_data"
    }
   ],
   "source": [
    "df7.iloc[:10, :].plot()"
   ]
  },
  {
   "cell_type": "code",
   "execution_count": 28,
   "id": "understanding-finger",
   "metadata": {},
   "outputs": [
    {
     "data": {
      "text/html": [
       "<div>\n",
       "<style scoped>\n",
       "    .dataframe tbody tr th:only-of-type {\n",
       "        vertical-align: middle;\n",
       "    }\n",
       "\n",
       "    .dataframe tbody tr th {\n",
       "        vertical-align: top;\n",
       "    }\n",
       "\n",
       "    .dataframe thead th {\n",
       "        text-align: right;\n",
       "    }\n",
       "</style>\n",
       "<table border=\"1\" class=\"dataframe\">\n",
       "  <thead>\n",
       "    <tr style=\"text-align: right;\">\n",
       "      <th></th>\n",
       "      <th>Number1</th>\n",
       "      <th>Number2</th>\n",
       "      <th>Number3</th>\n",
       "      <th>Number4</th>\n",
       "      <th>Number5</th>\n",
       "      <th>Number6</th>\n",
       "    </tr>\n",
       "    <tr>\n",
       "      <th>Date</th>\n",
       "      <th></th>\n",
       "      <th></th>\n",
       "      <th></th>\n",
       "      <th></th>\n",
       "      <th></th>\n",
       "      <th></th>\n",
       "    </tr>\n",
       "  </thead>\n",
       "  <tbody>\n",
       "    <tr>\n",
       "      <th>2020-05-12</th>\n",
       "      <td>4</td>\n",
       "      <td>7</td>\n",
       "      <td>8</td>\n",
       "      <td>14</td>\n",
       "      <td>33</td>\n",
       "      <td>47</td>\n",
       "    </tr>\n",
       "    <tr>\n",
       "      <th>2020-11-28</th>\n",
       "      <td>2</td>\n",
       "      <td>13</td>\n",
       "      <td>27</td>\n",
       "      <td>28</td>\n",
       "      <td>35</td>\n",
       "      <td>47</td>\n",
       "    </tr>\n",
       "    <tr>\n",
       "      <th>2020-12-12</th>\n",
       "      <td>11</td>\n",
       "      <td>13</td>\n",
       "      <td>19</td>\n",
       "      <td>20</td>\n",
       "      <td>27</td>\n",
       "      <td>30</td>\n",
       "    </tr>\n",
       "    <tr>\n",
       "      <th>2020-12-19</th>\n",
       "      <td>9</td>\n",
       "      <td>32</td>\n",
       "      <td>33</td>\n",
       "      <td>34</td>\n",
       "      <td>38</td>\n",
       "      <td>43</td>\n",
       "    </tr>\n",
       "    <tr>\n",
       "      <th>2020-12-26</th>\n",
       "      <td>9</td>\n",
       "      <td>18</td>\n",
       "      <td>24</td>\n",
       "      <td>37</td>\n",
       "      <td>40</td>\n",
       "      <td>45</td>\n",
       "    </tr>\n",
       "    <tr>\n",
       "      <th>2021-01-05</th>\n",
       "      <td>5</td>\n",
       "      <td>9</td>\n",
       "      <td>13</td>\n",
       "      <td>34</td>\n",
       "      <td>47</td>\n",
       "      <td>48</td>\n",
       "    </tr>\n",
       "    <tr>\n",
       "      <th>2021-01-16</th>\n",
       "      <td>12</td>\n",
       "      <td>16</td>\n",
       "      <td>17</td>\n",
       "      <td>22</td>\n",
       "      <td>28</td>\n",
       "      <td>39</td>\n",
       "    </tr>\n",
       "    <tr>\n",
       "      <th>2021-01-23</th>\n",
       "      <td>1</td>\n",
       "      <td>3</td>\n",
       "      <td>5</td>\n",
       "      <td>25</td>\n",
       "      <td>28</td>\n",
       "      <td>37</td>\n",
       "    </tr>\n",
       "    <tr>\n",
       "      <th>2021-01-30</th>\n",
       "      <td>6</td>\n",
       "      <td>11</td>\n",
       "      <td>13</td>\n",
       "      <td>31</td>\n",
       "      <td>34</td>\n",
       "      <td>37</td>\n",
       "    </tr>\n",
       "    <tr>\n",
       "      <th>2021-02-01</th>\n",
       "      <td>12</td>\n",
       "      <td>18</td>\n",
       "      <td>27</td>\n",
       "      <td>32</td>\n",
       "      <td>44</td>\n",
       "      <td>45</td>\n",
       "    </tr>\n",
       "  </tbody>\n",
       "</table>\n",
       "</div>"
      ],
      "text/plain": [
       "            Number1  Number2  Number3  Number4  Number5  Number6\n",
       "Date                                                            \n",
       "2020-05-12        4        7        8       14       33       47\n",
       "2020-11-28        2       13       27       28       35       47\n",
       "2020-12-12       11       13       19       20       27       30\n",
       "2020-12-19        9       32       33       34       38       43\n",
       "2020-12-26        9       18       24       37       40       45\n",
       "2021-01-05        5        9       13       34       47       48\n",
       "2021-01-16       12       16       17       22       28       39\n",
       "2021-01-23        1        3        5       25       28       37\n",
       "2021-01-30        6       11       13       31       34       37\n",
       "2021-02-01       12       18       27       32       44       45"
      ]
     },
     "execution_count": 28,
     "metadata": {},
     "output_type": "execute_result"
    }
   ],
   "source": [
    "df8 = df7.sort_index()\n",
    "df8.head(10)"
   ]
  },
  {
   "cell_type": "code",
   "execution_count": 29,
   "id": "remarkable-notice",
   "metadata": {
    "scrolled": true
   },
   "outputs": [
    {
     "data": {
      "text/html": [
       "<div>\n",
       "<style scoped>\n",
       "    .dataframe tbody tr th:only-of-type {\n",
       "        vertical-align: middle;\n",
       "    }\n",
       "\n",
       "    .dataframe tbody tr th {\n",
       "        vertical-align: top;\n",
       "    }\n",
       "\n",
       "    .dataframe thead th {\n",
       "        text-align: right;\n",
       "    }\n",
       "</style>\n",
       "<table border=\"1\" class=\"dataframe\">\n",
       "  <thead>\n",
       "    <tr style=\"text-align: right;\">\n",
       "      <th></th>\n",
       "      <th>Number1</th>\n",
       "      <th>Number2</th>\n",
       "      <th>Number3</th>\n",
       "      <th>Number4</th>\n",
       "      <th>Number5</th>\n",
       "      <th>Number6</th>\n",
       "    </tr>\n",
       "    <tr>\n",
       "      <th>Date</th>\n",
       "      <th></th>\n",
       "      <th></th>\n",
       "      <th></th>\n",
       "      <th></th>\n",
       "      <th></th>\n",
       "      <th></th>\n",
       "    </tr>\n",
       "  </thead>\n",
       "  <tbody>\n",
       "    <tr>\n",
       "      <th>2020-05-12</th>\n",
       "      <td>NaN</td>\n",
       "      <td>NaN</td>\n",
       "      <td>NaN</td>\n",
       "      <td>NaN</td>\n",
       "      <td>NaN</td>\n",
       "      <td>NaN</td>\n",
       "    </tr>\n",
       "    <tr>\n",
       "      <th>2020-11-28</th>\n",
       "      <td>NaN</td>\n",
       "      <td>NaN</td>\n",
       "      <td>NaN</td>\n",
       "      <td>NaN</td>\n",
       "      <td>NaN</td>\n",
       "      <td>NaN</td>\n",
       "    </tr>\n",
       "    <tr>\n",
       "      <th>2020-12-12</th>\n",
       "      <td>4.0</td>\n",
       "      <td>7.0</td>\n",
       "      <td>8.0</td>\n",
       "      <td>14.0</td>\n",
       "      <td>33.0</td>\n",
       "      <td>47.0</td>\n",
       "    </tr>\n",
       "    <tr>\n",
       "      <th>2020-12-19</th>\n",
       "      <td>2.0</td>\n",
       "      <td>13.0</td>\n",
       "      <td>27.0</td>\n",
       "      <td>28.0</td>\n",
       "      <td>35.0</td>\n",
       "      <td>47.0</td>\n",
       "    </tr>\n",
       "    <tr>\n",
       "      <th>2020-12-26</th>\n",
       "      <td>11.0</td>\n",
       "      <td>13.0</td>\n",
       "      <td>19.0</td>\n",
       "      <td>20.0</td>\n",
       "      <td>27.0</td>\n",
       "      <td>30.0</td>\n",
       "    </tr>\n",
       "    <tr>\n",
       "      <th>...</th>\n",
       "      <td>...</td>\n",
       "      <td>...</td>\n",
       "      <td>...</td>\n",
       "      <td>...</td>\n",
       "      <td>...</td>\n",
       "      <td>...</td>\n",
       "    </tr>\n",
       "    <tr>\n",
       "      <th>2022-09-04</th>\n",
       "      <td>15.0</td>\n",
       "      <td>26.0</td>\n",
       "      <td>32.0</td>\n",
       "      <td>40.0</td>\n",
       "      <td>48.0</td>\n",
       "      <td>0.0</td>\n",
       "    </tr>\n",
       "    <tr>\n",
       "      <th>2022-11-06</th>\n",
       "      <td>2.0</td>\n",
       "      <td>9.0</td>\n",
       "      <td>28.0</td>\n",
       "      <td>32.0</td>\n",
       "      <td>49.0</td>\n",
       "      <td>0.0</td>\n",
       "    </tr>\n",
       "    <tr>\n",
       "      <th>2022-11-06</th>\n",
       "      <td>2.0</td>\n",
       "      <td>7.0</td>\n",
       "      <td>12.0</td>\n",
       "      <td>44.0</td>\n",
       "      <td>48.0</td>\n",
       "      <td>0.0</td>\n",
       "    </tr>\n",
       "    <tr>\n",
       "      <th>2022-12-02</th>\n",
       "      <td>6.0</td>\n",
       "      <td>22.0</td>\n",
       "      <td>23.0</td>\n",
       "      <td>39.0</td>\n",
       "      <td>48.0</td>\n",
       "      <td>0.0</td>\n",
       "    </tr>\n",
       "    <tr>\n",
       "      <th>2022-12-03</th>\n",
       "      <td>6.0</td>\n",
       "      <td>22.0</td>\n",
       "      <td>23.0</td>\n",
       "      <td>39.0</td>\n",
       "      <td>48.0</td>\n",
       "      <td>0.0</td>\n",
       "    </tr>\n",
       "  </tbody>\n",
       "</table>\n",
       "<p>81 rows × 6 columns</p>\n",
       "</div>"
      ],
      "text/plain": [
       "            Number1  Number2  Number3  Number4  Number5  Number6\n",
       "Date                                                            \n",
       "2020-05-12      NaN      NaN      NaN      NaN      NaN      NaN\n",
       "2020-11-28      NaN      NaN      NaN      NaN      NaN      NaN\n",
       "2020-12-12      4.0      7.0      8.0     14.0     33.0     47.0\n",
       "2020-12-19      2.0     13.0     27.0     28.0     35.0     47.0\n",
       "2020-12-26     11.0     13.0     19.0     20.0     27.0     30.0\n",
       "...             ...      ...      ...      ...      ...      ...\n",
       "2022-09-04     15.0     26.0     32.0     40.0     48.0      0.0\n",
       "2022-11-06      2.0      9.0     28.0     32.0     49.0      0.0\n",
       "2022-11-06      2.0      7.0     12.0     44.0     48.0      0.0\n",
       "2022-12-02      6.0     22.0     23.0     39.0     48.0      0.0\n",
       "2022-12-03      6.0     22.0     23.0     39.0     48.0      0.0\n",
       "\n",
       "[81 rows x 6 columns]"
      ]
     },
     "execution_count": 29,
     "metadata": {},
     "output_type": "execute_result"
    }
   ],
   "source": [
    "df8.shift(2)"
   ]
  },
  {
   "cell_type": "code",
   "execution_count": 30,
   "id": "massive-illustration",
   "metadata": {},
   "outputs": [],
   "source": [
    "x = df8.iloc[2:, :]\n",
    "y = df8.shift(2).iloc[2:, :]"
   ]
  },
  {
   "cell_type": "code",
   "execution_count": 31,
   "id": "cardiovascular-elizabeth",
   "metadata": {},
   "outputs": [],
   "source": [
    "model = sm.tsa.arima.ARIMA(df8.Number1, order=(1, 1, 1))"
   ]
  },
  {
   "cell_type": "code",
   "execution_count": 32,
   "id": "useful-explanation",
   "metadata": {},
   "outputs": [],
   "source": [
    "model_fit = model.fit()"
   ]
  },
  {
   "cell_type": "code",
   "execution_count": 33,
   "id": "opened-uniform",
   "metadata": {},
   "outputs": [
    {
     "data": {
      "text/plain": [
       "81    6.956092\n",
       "82    6.729384\n",
       "83    6.746771\n",
       "84    6.745437\n",
       "85    6.745540\n",
       "86    6.745532\n",
       "87    6.745532\n",
       "88    6.745532\n",
       "Name: predicted_mean, dtype: float64"
      ]
     },
     "execution_count": 33,
     "metadata": {},
     "output_type": "execute_result"
    }
   ],
   "source": [
    "new_value = model_fit.forecast(steps=8)\n",
    "new_value.iloc[0:]"
   ]
  },
  {
   "cell_type": "code",
   "execution_count": 34,
   "id": "fabulous-organic",
   "metadata": {},
   "outputs": [
    {
     "name": "stdout",
     "output_type": "stream",
     "text": [
      "6.956091736303821\n",
      "6.729384058040164\n",
      "6.746770653575241\n",
      "6.745437246137894\n",
      "6.745539507410975\n",
      "6.745531664820872\n",
      "6.74553226628238\n",
      "6.745532220155279\n"
     ]
    }
   ],
   "source": [
    "for i in new_value:\n",
    "    print(i)"
   ]
  },
  {
   "cell_type": "code",
   "execution_count": 35,
   "id": "exceptional-bunch",
   "metadata": {
    "scrolled": true
   },
   "outputs": [
    {
     "data": {
      "text/plain": [
       "81"
      ]
     },
     "execution_count": 35,
     "metadata": {},
     "output_type": "execute_result"
    }
   ],
   "source": [
    "len(df8)"
   ]
  },
  {
   "cell_type": "code",
   "execution_count": 36,
   "id": "stone-documentation",
   "metadata": {},
   "outputs": [],
   "source": [
    "def split(df8):\n",
    "    x_train = df8[:-7]\n",
    "    x_test = df8[-7:]\n",
    "    return x_train, x_test\n",
    "    "
   ]
  },
  {
   "cell_type": "code",
   "execution_count": 37,
   "id": "durable-insurance",
   "metadata": {},
   "outputs": [],
   "source": [
    "x_train, x_test = split(df8)"
   ]
  },
  {
   "cell_type": "code",
   "execution_count": 38,
   "id": "flexible-affair",
   "metadata": {},
   "outputs": [],
   "source": [
    "def model(x_train, x_test, order):\n",
    "    model = sm.tsa.arima.ARIMA(x_train, order=order)\n",
    "    model_fit = model.fit()\n",
    "    from sklearn.metrics import mean_squared_error\n",
    "    loss = np.sqrt(mean_squared_error(x_test, model_fit.forecast(steps=len(x_test))))\n",
    "    print(loss)\n",
    "    return model, loss, order    "
   ]
  },
  {
   "cell_type": "code",
   "execution_count": 39,
   "id": "employed-harmony",
   "metadata": {},
   "outputs": [
    {
     "name": "stdout",
     "output_type": "stream",
     "text": [
      "5.6830914124360055\n"
     ]
    },
    {
     "data": {
      "text/plain": [
       "(<statsmodels.tsa.arima.model.ARIMA at 0x24b41592a60>,\n",
       " 5.6830914124360055,\n",
       " (1, 1, 1))"
      ]
     },
     "execution_count": 39,
     "metadata": {},
     "output_type": "execute_result"
    }
   ],
   "source": [
    "model(x_train.Number1, x_test.Number1, order=(1, 1, 1))"
   ]
  },
  {
   "cell_type": "code",
   "execution_count": 40,
   "id": "ordinary-brown",
   "metadata": {},
   "outputs": [
    {
     "data": {
      "text/plain": [
       "74"
      ]
     },
     "execution_count": 40,
     "metadata": {},
     "output_type": "execute_result"
    }
   ],
   "source": [
    "len(x_train.Number1)"
   ]
  },
  {
   "cell_type": "code",
   "execution_count": 41,
   "id": "cubic-foundation",
   "metadata": {},
   "outputs": [],
   "source": [
    "def loss(y_true, y_pred):\n",
    "    from sklearn.metrics import mean_squared_error\n",
    "    import numpy as np\n",
    "    return (np.sqrt(mean_squared_error(y_true, y_pred)))"
   ]
  },
  {
   "cell_type": "code",
   "execution_count": 42,
   "id": "informational-customer",
   "metadata": {},
   "outputs": [],
   "source": [
    "from statsmodels.tsa.arima.model import ARIMA"
   ]
  },
  {
   "cell_type": "code",
   "execution_count": 43,
   "id": "spectacular-finance",
   "metadata": {},
   "outputs": [],
   "source": [
    "train_df, test_df = split(df8)"
   ]
  },
  {
   "cell_type": "code",
   "execution_count": 44,
   "id": "collaborative-restaurant",
   "metadata": {},
   "outputs": [
    {
     "data": {
      "text/plain": [
       "<AxesSubplot:xlabel='Date'>"
      ]
     },
     "execution_count": 44,
     "metadata": {},
     "output_type": "execute_result"
    },
    {
     "data": {
      "image/png": "[encoded data removed]",
      "text/plain": [
       "<Figure size 432x288 with 1 Axes>"
      ]
     },
     "metadata": {
      "needs_background": "light"
     },
     "output_type": "display_data"
    }
   ],
   "source": [
    "test_df.Number1.plot()"
   ]
  },
  {
   "cell_type": "code",
   "execution_count": 45,
   "id": "resistant-sigma",
   "metadata": {},
   "outputs": [],
   "source": [
    "model = ARIMA(train_df.Number1, order=(3, 0, 0))\n",
    "model_fit = model.fit()\n",
    "y_predicted = model_fit.forecast(steps=7)\n",
    "y_pred = [i for i in y_predicted]"
   ]
  },
  {
   "cell_type": "code",
   "execution_count": 46,
   "id": "critical-herald",
   "metadata": {
    "scrolled": true
   },
   "outputs": [
    {
     "data": {
      "text/plain": [
       "Date\n",
       "2022-07-05    15\n",
       "2022-08-01     2\n",
       "2022-09-04     2\n",
       "2022-11-06     6\n",
       "2022-11-06     6\n",
       "2022-12-02    17\n",
       "2022-12-03     4\n",
       "Name: Number1, dtype: int64"
      ]
     },
     "execution_count": 46,
     "metadata": {},
     "output_type": "execute_result"
    }
   ],
   "source": [
    "dataframe = test_df.Number1\n",
    "dataframe"
   ]
  },
  {
   "cell_type": "code",
   "execution_count": 47,
   "id": "athletic-kazakhstan",
   "metadata": {},
   "outputs": [],
   "source": [
    "dataf = pd.DataFrame(dataframe)"
   ]
  },
  {
   "cell_type": "code",
   "execution_count": 48,
   "id": "extended-award",
   "metadata": {},
   "outputs": [
    {
     "data": {
      "text/html": [
       "<div>\n",
       "<style scoped>\n",
       "    .dataframe tbody tr th:only-of-type {\n",
       "        vertical-align: middle;\n",
       "    }\n",
       "\n",
       "    .dataframe tbody tr th {\n",
       "        vertical-align: top;\n",
       "    }\n",
       "\n",
       "    .dataframe thead th {\n",
       "        text-align: right;\n",
       "    }\n",
       "</style>\n",
       "<table border=\"1\" class=\"dataframe\">\n",
       "  <thead>\n",
       "    <tr style=\"text-align: right;\">\n",
       "      <th></th>\n",
       "      <th>Number1</th>\n",
       "      <th>forecast</th>\n",
       "    </tr>\n",
       "    <tr>\n",
       "      <th>Date</th>\n",
       "      <th></th>\n",
       "      <th></th>\n",
       "    </tr>\n",
       "  </thead>\n",
       "  <tbody>\n",
       "    <tr>\n",
       "      <th>2022-07-05</th>\n",
       "      <td>15</td>\n",
       "      <td>8.189598</td>\n",
       "    </tr>\n",
       "    <tr>\n",
       "      <th>2022-08-01</th>\n",
       "      <td>2</td>\n",
       "      <td>7.665879</td>\n",
       "    </tr>\n",
       "    <tr>\n",
       "      <th>2022-09-04</th>\n",
       "      <td>2</td>\n",
       "      <td>6.829257</td>\n",
       "    </tr>\n",
       "    <tr>\n",
       "      <th>2022-11-06</th>\n",
       "      <td>6</td>\n",
       "      <td>6.399976</td>\n",
       "    </tr>\n",
       "    <tr>\n",
       "      <th>2022-11-06</th>\n",
       "      <td>6</td>\n",
       "      <td>6.577603</td>\n",
       "    </tr>\n",
       "    <tr>\n",
       "      <th>2022-12-02</th>\n",
       "      <td>17</td>\n",
       "      <td>6.731268</td>\n",
       "    </tr>\n",
       "    <tr>\n",
       "      <th>2022-12-03</th>\n",
       "      <td>4</td>\n",
       "      <td>6.778601</td>\n",
       "    </tr>\n",
       "  </tbody>\n",
       "</table>\n",
       "</div>"
      ],
      "text/plain": [
       "            Number1  forecast\n",
       "Date                         \n",
       "2022-07-05       15  8.189598\n",
       "2022-08-01        2  7.665879\n",
       "2022-09-04        2  6.829257\n",
       "2022-11-06        6  6.399976\n",
       "2022-11-06        6  6.577603\n",
       "2022-12-02       17  6.731268\n",
       "2022-12-03        4  6.778601"
      ]
     },
     "execution_count": 48,
     "metadata": {},
     "output_type": "execute_result"
    }
   ],
   "source": [
    "dataf[\"forecast\"] = y_pred\n",
    "dataf"
   ]
  },
  {
   "cell_type": "code",
   "execution_count": 49,
   "id": "allied-racing",
   "metadata": {},
   "outputs": [
    {
     "data": {
      "text/plain": [
       "<AxesSubplot:xlabel='Date'>"
      ]
     },
     "execution_count": 49,
     "metadata": {},
     "output_type": "execute_result"
    },
    {
     "data": {
      "image/png": "[encoded data removed]",
      "text/plain": [
       "<Figure size 432x288 with 1 Axes>"
      ]
     },
     "metadata": {
      "needs_background": "light"
     },
     "output_type": "display_data"
    }
   ],
   "source": [
    "dataf.plot()"
   ]
  },
  {
   "cell_type": "markdown",
   "id": "regulated-status",
   "metadata": {},
   "source": [
    "# Number1 "
   ]
  },
  {
   "cell_type": "code",
   "execution_count": 50,
   "id": "heard-dealer",
   "metadata": {},
   "outputs": [
    {
     "name": "stdout",
     "output_type": "stream",
     "text": [
      "Loss : 5.703160807787242 | order : (0, 0, 0)\n",
      "Loss : 5.667376868811984 | order : (0, 0, 1)\n",
      "Loss : 5.551860096760272 | order : (0, 0, 2)\n",
      "Loss : 5.658137313184975 | order : (0, 0, 3)\n",
      "Loss : 5.854505238750315 | order : (0, 0, 4)\n",
      "Loss : 6.152815847816579 | order : (0, 1, 0)\n",
      "Loss : 5.703164888450939 | order : (0, 1, 1)\n",
      "Loss : 5.676574676271613 | order : (0, 1, 2)\n",
      "Loss : 5.5902942518782845 | order : (0, 1, 3)\n",
      "Loss : 5.672503288514253 | order : (0, 1, 4)\n",
      "Loss : 16.70329308850051 | order : (0, 2, 0)\n",
      "Loss : 6.131155606616285 | order : (0, 2, 1)\n",
      "Loss : 5.9961907112981425 | order : (0, 2, 2)\n",
      "Loss : 5.986486107897698 | order : (0, 2, 3)\n",
      "Loss : 5.9194047907460705 | order : (0, 2, 4)\n",
      "Loss : 75.98590094785132 | order : (0, 3, 0)\n",
      "Loss : 17.863267058100984 | order : (0, 3, 1)\n",
      "Loss : 6.191442555924032 | order : (0, 3, 2)\n",
      "Loss : 5.7489992273419315 | order : (0, 3, 3)\n",
      "Loss : 5.745111414179554 | order : (0, 3, 4)\n",
      "Loss : 91.68346166488251 | order : (0, 4, 0)\n",
      "Loss : 72.04453361847146 | order : (0, 4, 1)\n",
      "Loss : 19.550573918899083 | order : (0, 4, 2)\n",
      "Loss : 12.320605570821733 | order : (0, 4, 3)\n",
      "Loss : 5.701312834446612 | order : (0, 4, 4)\n",
      "Loss : 5.678373928735892 | order : (1, 0, 0)\n",
      "Loss : 5.642191790283447 | order : (1, 0, 1)\n",
      "Loss : 5.648237580720035 | order : (1, 0, 2)\n",
      "Loss : 5.749815573447185 | order : (1, 0, 3)\n",
      "Loss : 5.817031092629404 | order : (1, 0, 4)\n",
      "Loss : 6.966663860060257 | order : (1, 1, 0)\n",
      "Loss : 5.6830914124360055 | order : (1, 1, 1)\n",
      "Loss : 5.704425294093695 | order : (1, 1, 2)\n",
      "Loss : 5.653225235442822 | order : (1, 1, 3)\n",
      "Loss : 5.597374589789229 | order : (1, 1, 4)\n",
      "Loss : 9.774395949552837 | order : (1, 2, 0)\n",
      "Loss : 6.94584015116522 | order : (1, 2, 1)\n",
      "Loss : 5.989538079567545 | order : (1, 2, 2)\n",
      "Loss : 6.018565431994472 | order : (1, 2, 3)\n",
      "Loss : 6.015660186139681 | order : (1, 2, 4)\n",
      "Loss : 105.78726902700711 | order : (1, 3, 0)\n",
      "Loss : 9.782208135439918 | order : (1, 3, 1)\n",
      "Loss : 6.951300158335672 | order : (1, 3, 2)\n",
      "Loss : 5.746855000402384 | order : (1, 3, 3)\n",
      "Loss : 5.7708361244475075 | order : (1, 3, 4)\n",
      "Loss : 370.97002562389065 | order : (1, 4, 0)\n",
      "Loss : 108.65590759630555 | order : (1, 4, 1)\n",
      "Loss : 11.709467530913475 | order : (1, 4, 2)\n",
      "Loss : 6.991420617345846 | order : (1, 4, 3)\n",
      "Loss : 12.228354996480032 | order : (1, 4, 4)\n",
      "Loss : 5.621190585690606 | order : (2, 0, 0)\n",
      "Loss : 5.65222620097232 | order : (2, 0, 1)\n",
      "Loss : 5.634721688483165 | order : (2, 0, 2)\n",
      "Loss : 5.632624724447296 | order : (2, 0, 3)\n",
      "Loss : 5.749342350403578 | order : (2, 0, 4)\n",
      "Loss : 7.298566176641375 | order : (2, 1, 0)\n",
      "Loss : 5.64117038935995 | order : (2, 1, 1)\n",
      "Loss : 5.666393718251334 | order : (2, 1, 2)\n",
      "Loss : 5.756469546952574 | order : (2, 1, 3)\n",
      "Loss : 6.2433888689099115 | order : (2, 1, 4)\n",
      "Loss : 7.504134449900634 | order : (2, 2, 0)\n",
      "Loss : 7.326694701500506 | order : (2, 2, 1)\n",
      "Loss : 5.9583977734167775 | order : (2, 2, 2)\n",
      "Loss : 6.02012115698373 | order : (2, 2, 3)\n",
      "Loss : 6.560598536514119 | order : (2, 2, 4)\n",
      "Loss : 52.361887341181294 | order : (2, 3, 0)\n",
      "Loss : 7.729998379893213 | order : (2, 3, 1)\n",
      "Loss : 7.11965160014274 | order : (2, 3, 2)\n",
      "Loss : 7.048647261811584 | order : (2, 3, 3)\n",
      "Loss : 5.776015166103345 | order : (2, 3, 4)\n",
      "Loss : 323.80479380877364 | order : (2, 4, 0)\n",
      "Loss : 55.47356549670533 | order : (2, 4, 1)\n",
      "Loss : 7.597880990803723 | order : (2, 4, 2)\n",
      "Loss : 7.503476703925758 | order : (2, 4, 3)\n",
      "Loss : 6.907879642544991 | order : (2, 4, 4)\n",
      "Loss : 5.548057098985392 | order : (3, 0, 0)\n",
      "Loss : 5.756055268694845 | order : (3, 0, 1)\n",
      "Loss : 5.744847592337518 | order : (3, 0, 2)\n",
      "Loss : 5.875639918036257 | order : (3, 0, 3)\n",
      "Loss : 5.738491686300251 | order : (3, 0, 4)\n",
      "Loss : 6.748571429472507 | order : (3, 1, 0)\n",
      "Loss : 5.573910933656348 | order : (3, 1, 1)\n",
      "Loss : 5.660924205364364 | order : (3, 1, 2)\n",
      "Loss : 5.737771590730295 | order : (3, 1, 3)\n",
      "Loss : 5.95360980491494 | order : (3, 1, 4)\n",
      "Loss : 9.343153882067218 | order : (3, 2, 0)\n",
      "Loss : 6.826264076062883 | order : (3, 2, 1)\n",
      "Loss : 7.32355761594672 | order : (3, 2, 2)\n",
      "Loss : 8.367009778730223 | order : (3, 2, 3)\n",
      "Loss : 6.6046712937995 | order : (3, 2, 4)\n",
      "Loss : 22.527312239585903 | order : (3, 3, 0)\n",
      "Loss : 9.783340395545034 | order : (3, 3, 1)\n",
      "Loss : 7.533989970151285 | order : (3, 3, 2)\n",
      "Loss : 7.067789130027521 | order : (3, 3, 3)\n",
      "Loss : 7.967177704283791 | order : (3, 3, 4)\n",
      "Loss : 171.6434530512671 | order : (3, 4, 0)\n",
      "Loss : 25.617559316591475 | order : (3, 4, 1)\n",
      "Loss : 10.155870356934683 | order : (3, 4, 2)\n",
      "Loss : 7.248164132401226 | order : (3, 4, 3)\n",
      "Loss : 7.839514462027221 | order : (3, 4, 4)\n",
      "Loss : 5.899904360773403 | order : (4, 0, 0)\n",
      "Loss : 5.705240094585662 | order : (4, 0, 1)\n",
      "Loss : 5.732103759413076 | order : (4, 0, 2)\n",
      "Loss : 5.9955674621923825 | order : (4, 0, 3)\n",
      "Loss : 5.752258120270573 | order : (4, 0, 4)\n",
      "Loss : 6.168905469726307 | order : (4, 1, 0)\n",
      "Loss : 5.903421696802747 | order : (4, 1, 1)\n",
      "Loss : 5.714648198322514 | order : (4, 1, 2)\n",
      "Loss : 5.764225781840934 | order : (4, 1, 3)\n",
      "Loss : 5.957173848034277 | order : (4, 1, 4)\n",
      "Loss : 8.603054961764018 | order : (4, 2, 0)\n",
      "Loss : 6.267688546592726 | order : (4, 2, 1)\n",
      "Loss : 6.075159657505811 | order : (4, 2, 2)\n",
      "Loss : 5.894847104297265 | order : (4, 2, 3)\n",
      "Loss : 6.554706366062456 | order : (4, 2, 4)\n",
      "Loss : 16.346594110414404 | order : (4, 3, 0)\n",
      "Loss : 9.00491837010431 | order : (4, 3, 1)\n",
      "Loss : 6.293762691508446 | order : (4, 3, 2)\n",
      "Loss : 5.949455556514263 | order : (4, 3, 3)\n",
      "Loss : 8.001111936166163 | order : (4, 3, 4)\n",
      "Loss : 130.6312844833683 | order : (4, 4, 0)\n",
      "Loss : 18.292953246906272 | order : (4, 4, 1)\n",
      "Loss : 9.815117398049548 | order : (4, 4, 2)\n",
      "Loss : 16.259086818141576 | order : (4, 4, 3)\n",
      "Loss : 11.97818967204827 | order : (4, 4, 4)\n"
     ]
    }
   ],
   "source": [
    "p=5\n",
    "d=5\n",
    "q=5\n",
    "for i in range(p):\n",
    "    for j in range(d):\n",
    "        for k in range(q):\n",
    "            order = (i, j, k)\n",
    "            model = ARIMA(x_train.Number1, order=order)\n",
    "            model_fit = model.fit()\n",
    "            y_pred = model_fit.forecast(steps=len(x_test.Number1))\n",
    "            y_predicted = [i for i in y_pred]\n",
    "            losses = loss(x_test.Number1, y_predicted)\n",
    "            print(f\"Loss : {losses} | order : {order}\")\n",
    "            \n",
    "        \n",
    "                \n",
    "                "
   ]
  },
  {
   "cell_type": "code",
   "execution_count": 51,
   "id": "sapphire-machine",
   "metadata": {},
   "outputs": [],
   "source": [
    "#3, 0, 0"
   ]
  },
  {
   "cell_type": "code",
   "execution_count": 52,
   "id": "collaborative-oxford",
   "metadata": {},
   "outputs": [],
   "source": [
    "model_for_number1 = ARIMA(df8.Number1, order=(3, 0, 0))\n",
    "model_fit = model_for_number1.fit()"
   ]
  },
  {
   "cell_type": "code",
   "execution_count": 53,
   "id": "comparable-google",
   "metadata": {},
   "outputs": [
    {
     "data": {
      "text/plain": [
       "81    6.151313\n",
       "82    5.160422\n",
       "83    7.485227\n",
       "Name: predicted_mean, dtype: float64"
      ]
     },
     "execution_count": 53,
     "metadata": {},
     "output_type": "execute_result"
    }
   ],
   "source": [
    "y_pred_number1 = model_fit.forecast(steps=3)\n",
    "y_pred_number1"
   ]
  },
  {
   "cell_type": "markdown",
   "id": "affecting-motion",
   "metadata": {},
   "source": [
    "# Number 2"
   ]
  },
  {
   "cell_type": "code",
   "execution_count": 68,
   "id": "surprising-headline",
   "metadata": {},
   "outputs": [],
   "source": [
    "train_df, test_df = split(df8)"
   ]
  },
  {
   "cell_type": "code",
   "execution_count": 55,
   "id": "shared-washington",
   "metadata": {},
   "outputs": [
    {
     "name": "stdout",
     "output_type": "stream",
     "text": [
      "Loss : 7.382882224921102 | order : (0, 0, 0)\n",
      "Loss : 7.223157262821984 | order : (0, 0, 1)\n",
      "Loss : 7.443406320534493 | order : (0, 0, 2)\n",
      "Loss : 7.250248852967603 | order : (0, 0, 3)\n",
      "Loss : 7.2747113153419285 | order : (0, 0, 4)\n",
      "Loss : 9.82707629823991 | order : (0, 1, 0)\n",
      "Loss : 7.382883320768809 | order : (0, 1, 1)\n",
      "Loss : 7.233781579491433 | order : (0, 1, 2)\n",
      "Loss : 7.419453103171772 | order : (0, 1, 3)\n",
      "Loss : 7.242251965646714 | order : (0, 1, 4)\n",
      "Loss : 68.58987847029952 | order : (0, 2, 0)\n",
      "Loss : 9.725750232825717 | order : (0, 2, 1)\n",
      "Loss : 7.453471815540659 | order : (0, 2, 2)\n",
      "Loss : 7.342323491206151 | order : (0, 2, 3)\n",
      "Loss : 7.46832959182711 | order : (0, 2, 4)\n",
      "Loss : 398.55094673434536 | order : (0, 3, 0)\n",
      "Loss : 72.63215237075423 | order : (0, 3, 1)\n",
      "Loss : 11.782975077883835 | order : (0, 3, 2)\n",
      "Loss : 7.3951243022515545 | order : (0, 3, 3)\n",
      "Loss : 7.216539749617442 | order : (0, 3, 4)\n",
      "Loss : 1550.0435016936847 | order : (0, 4, 0)\n",
      "Loss : 407.7973170305388 | order : (0, 4, 1)\n",
      "Loss : 86.2334755181398 | order : (0, 4, 2)\n",
      "Loss : 19.692662292963647 | order : (0, 4, 3)\n",
      "Loss : 7.272490253749018 | order : (0, 4, 4)\n",
      "Loss : 7.190287488139917 | order : (1, 0, 0)\n",
      "Loss : 7.419853458186162 | order : (1, 0, 1)\n",
      "Loss : 7.334006125526775 | order : (1, 0, 2)\n",
      "Loss : 7.260169380122359 | order : (1, 0, 3)\n",
      "Loss : 7.071906301514535 | order : (1, 0, 4)\n",
      "Loss : 7.001498168548259 | order : (1, 1, 0)\n",
      "Loss : 7.204397265643521 | order : (1, 1, 1)\n",
      "Loss : 7.3829749112427026 | order : (1, 1, 2)\n",
      "Loss : 7.261721303439347 | order : (1, 1, 3)\n",
      "Loss : 7.390976103054356 | order : (1, 1, 4)\n",
      "Loss : 25.106423307125436 | order : (1, 2, 0)\n",
      "Loss : 6.96054137102655 | order : (1, 2, 1)\n",
      "Loss : 7.31626915391589 | order : (1, 2, 2)\n",
      "Loss : 7.463210586770716 | order : (1, 2, 3)\n",
      "Loss : 7.367916265779576 | order : (1, 2, 4)\n",
      "Loss : 187.98076796558058 | order : (1, 3, 0)\n",
      "Loss : 27.164217175542383 | order : (1, 3, 1)\n",
      "Loss : 6.98649553995313 | order : (1, 3, 2)\n",
      "Loss : 7.20196645131863 | order : (1, 3, 3)\n",
      "Loss : 7.422039172684019 | order : (1, 3, 4)\n",
      "Loss : 731.2991773153032 | order : (1, 4, 0)\n",
      "Loss : 198.48351811759485 | order : (1, 4, 1)\n",
      "Loss : 29.63277230352355 | order : (1, 4, 2)\n",
      "Loss : 7.685567185852448 | order : (1, 4, 3)\n",
      "Loss : 7.174941836619215 | order : (1, 4, 4)\n",
      "Loss : 7.3369106599292655 | order : (2, 0, 0)\n",
      "Loss : 7.321569782731227 | order : (2, 0, 1)\n",
      "Loss : 7.427307253416083 | order : (2, 0, 2)\n",
      "Loss : 7.157106955549013 | order : (2, 0, 3)\n",
      "Loss : 7.2537768663593445 | order : (2, 0, 4)\n",
      "Loss : 6.912343925755633 | order : (2, 1, 0)\n",
      "Loss : 7.323155338099567 | order : (2, 1, 1)\n",
      "Loss : 7.174535680192567 | order : (2, 1, 2)\n",
      "Loss : 6.362360375796667 | order : (2, 1, 3)\n",
      "Loss : 6.369571153406098 | order : (2, 1, 4)\n",
      "Loss : 11.203672320105825 | order : (2, 2, 0)\n",
      "Loss : 6.909617022913007 | order : (2, 2, 1)\n",
      "Loss : 6.566122020551942 | order : (2, 2, 2)\n",
      "Loss : 7.338959999951851 | order : (2, 2, 3)\n",
      "Loss : 6.5235673906957725 | order : (2, 2, 4)\n",
      "Loss : 113.69680775141943 | order : (2, 3, 0)\n",
      "Loss : 13.122541787980206 | order : (2, 3, 1)\n",
      "Loss : 6.9512270689693185 | order : (2, 3, 2)\n",
      "Loss : 6.562226910290898 | order : (2, 3, 3)\n",
      "Loss : 7.22805448794004 | order : (2, 3, 4)\n",
      "Loss : 526.8402068282661 | order : (2, 4, 0)\n",
      "Loss : 118.27142922739012 | order : (2, 4, 1)\n",
      "Loss : 13.450433203900218 | order : (2, 4, 2)\n",
      "Loss : 7.1617775922606 | order : (2, 4, 3)\n",
      "Loss : 7.445471201900239 | order : (2, 4, 4)\n",
      "Loss : 7.492995798937656 | order : (3, 0, 0)\n",
      "Loss : 7.288381069527603 | order : (3, 0, 1)\n",
      "Loss : 7.240980635185439 | order : (3, 0, 2)\n",
      "Loss : 7.873423246246598 | order : (3, 0, 3)\n",
      "Loss : 7.101499313848533 | order : (3, 0, 4)\n",
      "Loss : 7.625373813044829 | order : (3, 1, 0)\n",
      "Loss : 7.465932257711 | order : (3, 1, 1)\n",
      "Loss : 7.217453019545121 | order : (3, 1, 2)\n",
      "Loss : 6.3719546460150065 | order : (3, 1, 3)\n",
      "Loss : 7.11470607885157 | order : (3, 1, 4)\n",
      "Loss : 7.148870379646067 | order : (3, 2, 0)\n",
      "Loss : 7.595291984759928 | order : (3, 2, 1)\n",
      "Loss : 6.799557703292395 | order : (3, 2, 2)\n",
      "Loss : 6.427470602364086 | order : (3, 2, 3)\n",
      "Loss : 7.247396316558643 | order : (3, 2, 4)\n",
      "Loss : 69.15952434020075 | order : (3, 3, 0)\n",
      "Loss : 7.77047233549615 | order : (3, 3, 1)\n",
      "Loss : 13.359042751116974 | order : (3, 3, 2)\n",
      "Loss : 6.98081294447917 | order : (3, 3, 3)\n",
      "Loss : 6.799881814493214 | order : (3, 3, 4)\n",
      "Loss : 400.20968839468117 | order : (3, 4, 0)\n",
      "Loss : 70.87617102856382 | order : (3, 4, 1)\n",
      "Loss : 118.37474924171713 | order : (3, 4, 2)\n",
      "Loss : 12.822313055302969 | order : (3, 4, 3)\n",
      "Loss : 7.138051513673176 | order : (3, 4, 4)\n",
      "Loss : 7.140433880610073 | order : (4, 0, 0)\n",
      "Loss : 6.991587401935029 | order : (4, 0, 1)\n",
      "Loss : 6.490281401398865 | order : (4, 0, 2)\n",
      "Loss : 6.435346009334771 | order : (4, 0, 3)\n",
      "Loss : 7.879752558246456 | order : (4, 0, 4)\n",
      "Loss : 7.926114749178215 | order : (4, 1, 0)\n",
      "Loss : 7.155498781623663 | order : (4, 1, 1)\n",
      "Loss : 6.979789142507995 | order : (4, 1, 2)\n",
      "Loss : 6.445944534794792 | order : (4, 1, 3)\n",
      "Loss : 7.5710012266964055 | order : (4, 1, 4)\n",
      "Loss : 8.353148402191392 | order : (4, 2, 0)\n",
      "Loss : 7.889863152672154 | order : (4, 2, 1)\n",
      "Loss : 7.216207995308968 | order : (4, 2, 2)\n",
      "Loss : 7.528728781337678 | order : (4, 2, 3)\n",
      "Loss : 6.512525843266761 | order : (4, 2, 4)\n",
      "Loss : 23.663737849296833 | order : (4, 3, 0)\n",
      "Loss : 8.10676269104917 | order : (4, 3, 1)\n",
      "Loss : 7.772557767684432 | order : (4, 3, 2)\n",
      "Loss : 7.831578193205639 | order : (4, 3, 3)\n",
      "Loss : 7.006373030030964 | order : (4, 3, 4)\n",
      "Loss : 210.11860115459143 | order : (4, 4, 0)\n",
      "Loss : 23.19669590105317 | order : (4, 4, 1)\n",
      "Loss : 7.962794860373829 | order : (4, 4, 2)\n",
      "Loss : 7.682415506519597 | order : (4, 4, 3)\n",
      "Loss : 7.762389963145264 | order : (4, 4, 4)\n"
     ]
    }
   ],
   "source": [
    "p=5\n",
    "d=5\n",
    "q=5\n",
    "for i in range(p):\n",
    "    for j in range(d):\n",
    "        for k in range(q):\n",
    "            order = (i, j, k)\n",
    "            model = ARIMA(train_df.Number2, order=order)\n",
    "            model_fit = model.fit()\n",
    "            y_pred = model_fit.forecast(steps=len(test_df.Number2))\n",
    "            y_predicted = [i for i in y_pred]\n",
    "            losses = loss(test_df.Number2, y_predicted)\n",
    "            print(f\"Loss : {losses} | order : {order}\")\n",
    "    "
   ]
  },
  {
   "cell_type": "code",
   "execution_count": 56,
   "id": "statewide-alabama",
   "metadata": {},
   "outputs": [],
   "source": [
    "#2, 1, 3"
   ]
  },
  {
   "cell_type": "code",
   "execution_count": 69,
   "id": "above-spain",
   "metadata": {},
   "outputs": [
    {
     "data": {
      "text/plain": [
       "81    17.720960\n",
       "82    15.709797\n",
       "83    13.441321\n",
       "Name: predicted_mean, dtype: float64"
      ]
     },
     "execution_count": 69,
     "metadata": {},
     "output_type": "execute_result"
    }
   ],
   "source": [
    "model_for_number2 = ARIMA(df8.Number2, order=(2,1,3))\n",
    "model_fit = model_for_number2.fit()\n",
    "y_pred_number2 = model_fit.forecast(steps=3)\n",
    "y_pred_number2"
   ]
  },
  {
   "cell_type": "markdown",
   "id": "resident-bahamas",
   "metadata": {},
   "source": [
    "# Number3"
   ]
  },
  {
   "cell_type": "code",
   "execution_count": 58,
   "id": "stuffed-consortium",
   "metadata": {},
   "outputs": [],
   "source": [
    "train_df, test_df = split(df8)"
   ]
  },
  {
   "cell_type": "code",
   "execution_count": 59,
   "id": "complex-assets",
   "metadata": {},
   "outputs": [
    {
     "name": "stdout",
     "output_type": "stream",
     "text": [
      "Loss : 6.353888588053547 | order : (0, 0, 0)\n",
      "Loss : 6.195581820786444 | order : (0, 0, 1)\n",
      "Loss : 6.193679096089617 | order : (0, 0, 2)\n",
      "Loss : 7.335198427022677 | order : (0, 0, 3)\n",
      "Loss : 7.1791196354631674 | order : (0, 0, 4)\n",
      "Loss : 12.45563555756418 | order : (0, 1, 0)\n",
      "Loss : 6.192208368427213 | order : (0, 1, 1)\n",
      "Loss : 5.983657969716826 | order : (0, 1, 2)\n",
      "Loss : 5.985908206297234 | order : (0, 1, 3)\n",
      "Loss : 7.128889388536493 | order : (0, 1, 4)\n",
      "Loss : 77.10475249387265 | order : (0, 2, 0)\n",
      "Loss : 12.175185263244275 | order : (0, 2, 1)\n",
      "Loss : 6.2649260823853465 | order : (0, 2, 2)\n",
      "Loss : 6.137647334015155 | order : (0, 2, 3)\n",
      "Loss : 6.140916528812114 | order : (0, 2, 4)\n",
      "Loss : 211.33656299169417 | order : (0, 3, 0)\n",
      "Loss : 84.01319365197098 | order : (0, 3, 1)\n",
      "Loss : 17.717148351038844 | order : (0, 3, 2)\n",
      "Loss : 6.482099969339064 | order : (0, 3, 3)\n",
      "Loss : 6.349382061101469 | order : (0, 3, 4)\n",
      "Loss : 94.27164397178298 | order : (0, 4, 0)\n",
      "Loss : 201.52680250347356 | order : (0, 4, 1)\n",
      "Loss : 103.08764393615934 | order : (0, 4, 2)\n",
      "Loss : 31.124531340849305 | order : (0, 4, 3)\n",
      "Loss : 6.45279678548935 | order : (0, 4, 4)\n",
      "Loss : 6.191738138637261 | order : (1, 0, 0)\n",
      "Loss : 6.353771911033224 | order : (1, 0, 1)\n",
      "Loss : 6.466625973298986 | order : (1, 0, 2)\n",
      "Loss : 7.223292616053131 | order : (1, 0, 3)\n",
      "Loss : 7.3987107270774795 | order : (1, 0, 4)\n",
      "Loss : 8.070837205986477 | order : (1, 1, 0)\n",
      "Loss : 5.987568107643299 | order : (1, 1, 1)\n",
      "Loss : 6.180107994913951 | order : (1, 1, 2)\n",
      "Loss : 6.316573428939376 | order : (1, 1, 3)\n",
      "Loss : 7.031752214608262 | order : (1, 1, 4)\n",
      "Loss : 58.86017529444628 | order : (1, 2, 0)\n",
      "Loss : 7.9096895366347315 | order : (1, 2, 1)\n",
      "Loss : 6.139026765313716 | order : (1, 2, 2)\n",
      "Loss : 5.942396566451551 | order : (1, 2, 3)\n",
      "Loss : 5.821803374342118 | order : (1, 2, 4)\n",
      "Loss : 264.98320698516744 | order : (1, 3, 0)\n",
      "Loss : 63.34614701252186 | order : (1, 3, 1)\n",
      "Loss : 9.498297714149817 | order : (1, 3, 2)\n",
      "Loss : 6.341613485281952 | order : (1, 3, 3)\n",
      "Loss : 6.123685171994541 | order : (1, 3, 4)\n",
      "Loss : 507.0657847248308 | order : (1, 4, 0)\n",
      "Loss : 269.65851350416506 | order : (1, 4, 1)\n",
      "Loss : 69.093177122493 | order : (1, 4, 2)\n",
      "Loss : 12.790042856054912 | order : (1, 4, 3)\n",
      "Loss : 6.254946494981104 | order : (1, 4, 4)\n",
      "Loss : 6.212912628126968 | order : (2, 0, 0)\n",
      "Loss : 6.409986687832971 | order : (2, 0, 1)\n",
      "Loss : 8.228959985902852 | order : (2, 0, 2)\n",
      "Loss : 7.719575230341243 | order : (2, 0, 3)\n",
      "Loss : 7.8057781845358125 | order : (2, 0, 4)\n",
      "Loss : 6.11120950994133 | order : (2, 1, 0)\n",
      "Loss : 6.02544202870759 | order : (2, 1, 1)\n",
      "Loss : 6.245103810906667 | order : (2, 1, 2)\n",
      "Loss : 8.351579116117389 | order : (2, 1, 3)\n",
      "Loss : 7.518433416469763 | order : (2, 1, 4)\n",
      "Loss : 37.9888141857127 | order : (2, 2, 0)\n",
      "Loss : 6.027213924829055 | order : (2, 2, 1)\n",
      "Loss : 420.5179185081232 | order : (2, 2, 2)\n",
      "Loss : 6.11731955086666 | order : (2, 2, 3)\n",
      "Loss : 8.114040216525995 | order : (2, 2, 4)\n",
      "Loss : 220.07332112643118 | order : (2, 3, 0)\n",
      "Loss : 41.973793166955716 | order : (2, 3, 1)\n",
      "Loss : 6.153214947709416 | order : (2, 3, 2)\n",
      "Loss : 9.929925765239853 | order : (2, 3, 3)\n",
      "Loss : 13.536297608711342 | order : (2, 3, 4)\n",
      "Loss : 582.9961529645777 | order : (2, 4, 0)\n",
      "Loss : 224.76443428535998 | order : (2, 4, 1)\n",
      "Loss : 46.910677243408905 | order : (2, 4, 2)\n",
      "Loss : 9.60708761823709 | order : (2, 4, 3)\n",
      "Loss : 12.782016647814782 | order : (2, 4, 4)\n",
      "Loss : 7.098297121874643 | order : (3, 0, 0)\n",
      "Loss : 7.087376249154901 | order : (3, 0, 1)\n",
      "Loss : 7.905184826609977 | order : (3, 0, 2)\n",
      "Loss : 7.821877366444785 | order : (3, 0, 3)\n",
      "Loss : 7.800669858286989 | order : (3, 0, 4)\n",
      "Loss : 6.224889556023397 | order : (3, 1, 0)\n",
      "Loss : 6.916347509696271 | order : (3, 1, 1)\n",
      "Loss : 6.90570261200769 | order : (3, 1, 2)\n",
      "Loss : 8.33962564651204 | order : (3, 1, 3)\n",
      "Loss : 7.832888389700818 | order : (3, 1, 4)\n",
      "Loss : 18.834662170647537 | order : (3, 2, 0)\n",
      "Loss : 6.214388960206486 | order : (3, 2, 1)\n",
      "Loss : 7.030676659953714 | order : (3, 2, 2)\n",
      "Loss : 7.008091666725785 | order : (3, 2, 3)\n",
      "Loss : 7.070459266833476 | order : (3, 2, 4)\n",
      "Loss : 164.66974365049464 | order : (3, 3, 0)\n",
      "Loss : 21.788836680425526 | order : (3, 3, 1)\n",
      "Loss : 6.276775903602003 | order : (3, 3, 2)\n",
      "Loss : 6.033932547772878 | order : (3, 3, 3)\n",
      "Loss : 8.170633648130268 | order : (3, 3, 4)\n",
      "Loss : 609.2765626136685 | order : (3, 4, 0)\n",
      "Loss : 167.53544794915734 | order : (3, 4, 1)\n",
      "Loss : 25.49045960105534 | order : (3, 4, 2)\n",
      "Loss : 49.62557868373146 | order : (3, 4, 3)\n",
      "Loss : 74.36876024231142 | order : (3, 4, 4)\n",
      "Loss : 7.065452603661018 | order : (4, 0, 0)\n",
      "Loss : 7.165333726566745 | order : (4, 0, 1)\n",
      "Loss : 7.807521885633866 | order : (4, 0, 2)\n",
      "Loss : 7.756131366563561 | order : (4, 0, 3)\n",
      "Loss : 8.58118643523262 | order : (4, 0, 4)\n",
      "Loss : 7.518792635861745 | order : (4, 1, 0)\n",
      "Loss : 6.893184730625598 | order : (4, 1, 1)\n",
      "Loss : 7.0520102791083 | order : (4, 1, 2)\n",
      "Loss : 8.437765386025578 | order : (4, 1, 3)\n",
      "Loss : 7.712715883616341 | order : (4, 1, 4)\n",
      "Loss : 6.756893441266769 | order : (4, 2, 0)\n",
      "Loss : 7.465274566465298 | order : (4, 2, 1)\n",
      "Loss : 7.02042070748487 | order : (4, 2, 2)\n",
      "Loss : 6.689054212029793 | order : (4, 2, 3)\n",
      "Loss : 8.523342891868865 | order : (4, 2, 4)\n",
      "Loss : 75.4227458291188 | order : (4, 3, 0)\n",
      "Loss : 7.2814783302625505 | order : (4, 3, 1)\n",
      "Loss : 7.445110113594701 | order : (4, 3, 2)\n",
      "Loss : 7.26557718092112 | order : (4, 3, 3)\n",
      "Loss : 8.743065146414061 | order : (4, 3, 4)\n",
      "Loss : 361.2938497124822 | order : (4, 4, 0)\n",
      "Loss : 76.05489402745573 | order : (4, 4, 1)\n",
      "Loss : 8.623278495300099 | order : (4, 4, 2)\n",
      "Loss : 7.768605613831225 | order : (4, 4, 3)\n",
      "Loss : 7.680230675434649 | order : (4, 4, 4)\n"
     ]
    }
   ],
   "source": [
    "p=5\n",
    "d=5\n",
    "q=5\n",
    "for i in range(p):\n",
    "    for j in range(d):\n",
    "        for k in range(q):\n",
    "            order = (i, j, k)\n",
    "            model = ARIMA(train_df.Number3, order=order)\n",
    "            model_fit = model.fit()\n",
    "            y_pred = model_fit.forecast(steps=len(test_df.Number3))\n",
    "            y_predicted = [i for i in y_pred]\n",
    "            losses = loss(test_df.Number3, y_predicted)\n",
    "            print(f\"Loss : {losses} | order : {order}\")"
   ]
  },
  {
   "cell_type": "code",
   "execution_count": 60,
   "id": "alternate-space",
   "metadata": {},
   "outputs": [],
   "source": [
    "#1, 2, 4"
   ]
  },
  {
   "cell_type": "code",
   "execution_count": 70,
   "id": "differential-genetics",
   "metadata": {},
   "outputs": [
    {
     "data": {
      "text/plain": [
       "81    27.640214\n",
       "82    24.762917\n",
       "83    27.834391\n",
       "Name: predicted_mean, dtype: float64"
      ]
     },
     "execution_count": 70,
     "metadata": {},
     "output_type": "execute_result"
    }
   ],
   "source": [
    "model_for_number3 = ARIMA(df8.Number3, order=(1,2,4))\n",
    "model_fit = model_for_number3.fit()\n",
    "y_pred_number3 = model_fit.forecast(steps=3)\n",
    "y_pred_number3"
   ]
  },
  {
   "cell_type": "markdown",
   "id": "insured-offering",
   "metadata": {},
   "source": [
    "# Number4"
   ]
  },
  {
   "cell_type": "code",
   "execution_count": 62,
   "id": "suburban-cleaners",
   "metadata": {},
   "outputs": [],
   "source": [
    "train_df, test_df = split(df8)"
   ]
  },
  {
   "cell_type": "code",
   "execution_count": 63,
   "id": "brilliant-gentleman",
   "metadata": {},
   "outputs": [
    {
     "name": "stdout",
     "output_type": "stream",
     "text": [
      "Loss : 8.63146532282433 | order : (0, 0, 0)\n",
      "Loss : 8.691712953701305 | order : (0, 0, 1)\n",
      "Loss : 8.657352610585814 | order : (0, 0, 2)\n",
      "Loss : 9.165156258699223 | order : (0, 0, 3)\n",
      "Loss : 8.948155933080937 | order : (0, 0, 4)\n",
      "Loss : 6.047431568147635 | order : (0, 1, 0)\n",
      "Loss : 7.026517409150332 | order : (0, 1, 1)\n",
      "Loss : 6.6225673226289254 | order : (0, 1, 2)\n",
      "Loss : 6.609900479702599 | order : (0, 1, 3)\n",
      "Loss : 6.821352191744101 | order : (0, 1, 4)\n",
      "Loss : 6.718843437881739 | order : (0, 2, 0)\n",
      "Loss : 5.3514388607105445 | order : (0, 2, 1)\n",
      "Loss : 5.106039413767448 | order : (0, 2, 2)\n",
      "Loss : 5.3790970931428435 | order : (0, 2, 3)\n",
      "Loss : 5.3411782088411695 | order : (0, 2, 4)\n",
      "Loss : 201.80188304373272 | order : (0, 3, 0)\n",
      "Loss : 4.898040747577781 | order : (0, 3, 1)\n",
      "Loss : 8.543116646702341 | order : (0, 3, 2)\n",
      "Loss : 3.9343605164379096 | order : (0, 3, 3)\n",
      "Loss : 4.155891217934251 | order : (0, 3, 4)\n",
      "Loss : 1521.6988626438483 | order : (0, 4, 0)\n",
      "Loss : 221.69040972602548 | order : (0, 4, 1)\n",
      "Loss : 7.902610539318393 | order : (0, 4, 2)\n",
      "Loss : 9.108979505728167 | order : (0, 4, 3)\n",
      "Loss : 9.751500381397168 | order : (0, 4, 4)\n",
      "Loss : 8.691036583840262 | order : (1, 0, 0)\n",
      "Loss : 8.858740153783476 | order : (1, 0, 1)\n",
      "Loss : 8.84887125987699 | order : (1, 0, 2)\n",
      "Loss : 9.141678225601291 | order : (1, 0, 3)\n",
      "Loss : 8.629131351793262 | order : (1, 0, 4)\n",
      "Loss : 6.7882046834985 | order : (1, 1, 0)\n",
      "Loss : 6.691890847009029 | order : (1, 1, 1)\n",
      "Loss : 6.999850720508476 | order : (1, 1, 2)\n",
      "Loss : 6.976497973491041 | order : (1, 1, 3)\n",
      "Loss : 6.92352452301211 | order : (1, 1, 4)\n",
      "Loss : 23.1082573212825 | order : (1, 2, 0)\n",
      "Loss : 6.191492343139149 | order : (1, 2, 1)\n",
      "Loss : 5.354663183302442 | order : (1, 2, 2)\n",
      "Loss : 6.2982160370327955 | order : (1, 2, 3)\n",
      "Loss : 6.397565075616996 | order : (1, 2, 4)\n",
      "Loss : 49.42109393425743 | order : (1, 3, 0)\n",
      "Loss : 24.84612541915129 | order : (1, 3, 1)\n",
      "Loss : 7.561129277840159 | order : (1, 3, 2)\n",
      "Loss : 4.132165618570362 | order : (1, 3, 3)\n",
      "Loss : 5.155895309733193 | order : (1, 3, 4)\n",
      "Loss : 176.34221109475416 | order : (1, 4, 0)\n",
      "Loss : 48.66383110584729 | order : (1, 4, 1)\n",
      "Loss : 25.10922513752795 | order : (1, 4, 2)\n",
      "Loss : 6.392832328230539 | order : (1, 4, 3)\n",
      "Loss : 9.293965053291725 | order : (1, 4, 4)\n",
      "Loss : 8.68829985098811 | order : (2, 0, 0)\n",
      "Loss : 8.848785760393554 | order : (2, 0, 1)\n",
      "Loss : 8.214846856364133 | order : (2, 0, 2)\n",
      "Loss : 9.101115092229135 | order : (2, 0, 3)\n",
      "Loss : 8.636958721044829 | order : (2, 0, 4)\n",
      "Loss : 5.65857226790387 | order : (2, 1, 0)\n",
      "Loss : 6.771300631131816 | order : (2, 1, 1)\n",
      "Loss : 6.990675238686593 | order : (2, 1, 2)\n",
      "Loss : 6.270528384456266 | order : (2, 1, 3)\n",
      "Loss : 6.923619140702265 | order : (2, 1, 4)\n",
      "Loss : 17.654261928625612 | order : (2, 2, 0)\n",
      "Loss : 5.091418831744664 | order : (2, 2, 1)\n",
      "Loss : 5.31077751041924 | order : (2, 2, 2)\n",
      "Loss : 5.3726695149022845 | order : (2, 2, 3)\n",
      "Loss : 4.474762131236252 | order : (2, 2, 4)\n",
      "Loss : 64.72052833265312 | order : (2, 3, 0)\n",
      "Loss : 19.463906350320908 | order : (2, 3, 1)\n",
      "Loss : 4.822608655748968 | order : (2, 3, 2)\n",
      "Loss : 8.703853022661578 | order : (2, 3, 3)\n",
      "Loss : 5.122315346170341 | order : (2, 3, 4)\n",
      "Loss : 48.190953392050076 | order : (2, 4, 0)\n",
      "Loss : 66.46729445286003 | order : (2, 4, 1)\n",
      "Loss : 20.14837219243213 | order : (2, 4, 2)\n",
      "Loss : 5.556138786441928 | order : (2, 4, 3)\n",
      "Loss : 6.394521725416468 | order : (2, 4, 4)\n",
      "Loss : 9.122868180012551 | order : (3, 0, 0)\n",
      "Loss : 9.113587357623127 | order : (3, 0, 1)\n",
      "Loss : 8.955671927093045 | order : (3, 0, 2)\n",
      "Loss : 8.87331197045796 | order : (3, 0, 3)\n",
      "Loss : 8.110266564111333 | order : (3, 0, 4)\n",
      "Loss : 5.657215244914328 | order : (3, 1, 0)\n",
      "Loss : 6.939389992635407 | order : (3, 1, 1)\n",
      "Loss : 6.92397092496026 | order : (3, 1, 2)\n",
      "Loss : 6.837533864207402 | order : (3, 1, 3)\n",
      "Loss : 6.851896089948341 | order : (3, 1, 4)\n",
      "Loss : 11.660976204466008 | order : (3, 2, 0)\n",
      "Loss : 5.18584120490655 | order : (3, 2, 1)\n",
      "Loss : 5.857367271249006 | order : (3, 2, 2)\n",
      "Loss : 5.849367453808032 | order : (3, 2, 3)\n",
      "Loss : 5.04781481390512 | order : (3, 2, 4)\n",
      "Loss : 74.40953114117495 | order : (3, 3, 0)\n",
      "Loss : 13.443833755352637 | order : (3, 3, 1)\n",
      "Loss : 5.0053314039374985 | order : (3, 3, 2)\n",
      "Loss : 5.981694114328619 | order : (3, 3, 3)\n",
      "Loss : 5.50151352539182 | order : (3, 3, 4)\n",
      "Loss : 135.0447455213508 | order : (3, 4, 0)\n",
      "Loss : 76.2078279141195 | order : (3, 4, 1)\n",
      "Loss : 14.70653766724039 | order : (3, 4, 2)\n",
      "Loss : 22.825515750192473 | order : (3, 4, 3)\n",
      "Loss : 17.77947262169986 | order : (3, 4, 4)\n",
      "Loss : 9.060920314174918 | order : (4, 0, 0)\n",
      "Loss : 8.078949810266279 | order : (4, 0, 1)\n",
      "Loss : 9.112805064617717 | order : (4, 0, 2)\n",
      "Loss : 7.965286024293219 | order : (4, 0, 3)\n",
      "Loss : 7.969672279468281 | order : (4, 0, 4)\n",
      "Loss : 5.199393317646282 | order : (4, 1, 0)\n",
      "Loss : 6.907188727987113 | order : (4, 1, 1)\n",
      "Loss : 6.691866697374705 | order : (4, 1, 2)\n",
      "Loss : 6.640294742600218 | order : (4, 1, 3)\n",
      "Loss : 6.798481542061313 | order : (4, 1, 4)\n",
      "Loss : 4.132712318205899 | order : (4, 2, 0)\n",
      "Loss : 4.77647923416146 | order : (4, 2, 1)\n",
      "Loss : 5.8582103994205585 | order : (4, 2, 2)\n",
      "Loss : 6.542235990111923 | order : (4, 2, 3)\n",
      "Loss : 4.757990413042125 | order : (4, 2, 4)\n",
      "Loss : 39.86616567136946 | order : (4, 3, 0)\n",
      "Loss : 4.2702271134591925 | order : (4, 3, 1)\n",
      "Loss : 4.641612876706988 | order : (4, 3, 2)\n",
      "Loss : 4.659617261239488 | order : (4, 3, 3)\n",
      "Loss : 5.365958743677995 | order : (4, 3, 4)\n",
      "Loss : 86.6746086812504 | order : (4, 4, 0)\n",
      "Loss : 39.36594832316612 | order : (4, 4, 1)\n",
      "Loss : 4.241655428796744 | order : (4, 4, 2)\n",
      "Loss : 6.705926069937081 | order : (4, 4, 3)\n",
      "Loss : 8.394329503174284 | order : (4, 4, 4)\n"
     ]
    }
   ],
   "source": [
    "p=5\n",
    "d=5\n",
    "q=5\n",
    "for i in range(p):\n",
    "    for j in range(d):\n",
    "        for k in range(q):\n",
    "            order = (i, j, k)\n",
    "            model = ARIMA(train_df.Number4, order=order)\n",
    "            model_fit = model.fit()\n",
    "            y_pred = model_fit.forecast(steps=len(test_df.Number4))\n",
    "            y_predicted = [i for i in y_pred]\n",
    "            losses = loss(test_df.Number4, y_predicted)\n",
    "            print(f\"Loss : {losses} | order : {order}\")"
   ]
  },
  {
   "cell_type": "code",
   "execution_count": 64,
   "id": "painted-arcade",
   "metadata": {},
   "outputs": [],
   "source": [
    "#0,3,3"
   ]
  },
  {
   "cell_type": "code",
   "execution_count": 71,
   "id": "agreed-eligibility",
   "metadata": {},
   "outputs": [
    {
     "data": {
      "text/plain": [
       "81    37.622134\n",
       "82    37.822339\n",
       "83    38.025923\n",
       "Name: predicted_mean, dtype: float64"
      ]
     },
     "execution_count": 71,
     "metadata": {},
     "output_type": "execute_result"
    }
   ],
   "source": [
    "model_for_number4 = ARIMA(df8.Number4, order=(0, 3, 3))\n",
    "model_fit = model_for_number4.fit()\n",
    "y_pred_number4 = model_fit.forecast(steps=3)\n",
    "y_pred_number4"
   ]
  },
  {
   "cell_type": "markdown",
   "id": "beginning-outreach",
   "metadata": {},
   "source": [
    "# Number 5"
   ]
  },
  {
   "cell_type": "code",
   "execution_count": 73,
   "id": "cognitive-confidentiality",
   "metadata": {},
   "outputs": [],
   "source": [
    "train_df, test_df = split(df8)"
   ]
  },
  {
   "cell_type": "code",
   "execution_count": 74,
   "id": "liberal-gibson",
   "metadata": {},
   "outputs": [
    {
     "name": "stdout",
     "output_type": "stream",
     "text": [
      "Loss : 9.601067909045593 | order : (0, 0, 0)\n",
      "Loss : 9.601053967929245 | order : (0, 0, 1)\n",
      "Loss : 9.442617759373718 | order : (0, 0, 2)\n",
      "Loss : 9.640229286503017 | order : (0, 0, 3)\n",
      "Loss : 9.461289681114128 | order : (0, 0, 4)\n",
      "Loss : 9.486832980505138 | order : (0, 1, 0)\n",
      "Loss : 7.867929196180892 | order : (0, 1, 1)\n",
      "Loss : 7.769433526052456 | order : (0, 1, 2)\n",
      "Loss : 7.893792400660955 | order : (0, 1, 3)\n",
      "Loss : 7.956799980916978 | order : (0, 1, 4)\n",
      "Loss : 46.28174586162269 | order : (0, 2, 0)\n",
      "Loss : 9.350326849001354 | order : (0, 2, 1)\n",
      "Loss : 6.525827509601397 | order : (0, 2, 2)\n",
      "Loss : 6.531737443090155 | order : (0, 2, 3)\n",
      "Loss : 6.467058034492707 | order : (0, 2, 4)\n",
      "Loss : 209.85573275807405 | order : (0, 3, 0)\n",
      "Loss : 48.45470426733372 | order : (0, 3, 1)\n",
      "Loss : 11.179426617693583 | order : (0, 3, 2)\n",
      "Loss : 6.5305411740494055 | order : (0, 3, 3)\n",
      "Loss : 6.535295990721641 | order : (0, 3, 4)\n",
      "Loss : 743.3728155220236 | order : (0, 4, 0)\n",
      "Loss : 210.50551068535034 | order : (0, 4, 1)\n",
      "Loss : 53.89999923850202 | order : (0, 4, 2)\n",
      "Loss : 8.583336326111866 | order : (0, 4, 3)\n",
      "Loss : 10.317835358430116 | order : (0, 4, 4)\n",
      "Loss : 9.601066208228128 | order : (1, 0, 0)\n",
      "Loss : 9.806094060216289 | order : (1, 0, 1)\n",
      "Loss : 9.484236346477918 | order : (1, 0, 2)\n",
      "Loss : 9.590599332353088 | order : (1, 0, 3)\n",
      "Loss : 9.688452478096922 | order : (1, 0, 4)\n",
      "Loss : 6.804204838604096 | order : (1, 1, 0)\n",
      "Loss : 7.748632698369231 | order : (1, 1, 1)\n",
      "Loss : 7.729653507269683 | order : (1, 1, 2)\n",
      "Loss : 7.900442377387447 | order : (1, 1, 3)\n",
      "Loss : 7.976206457041035 | order : (1, 1, 4)\n",
      "Loss : 23.982656536522907 | order : (1, 2, 0)\n",
      "Loss : 6.664762115721492 | order : (1, 2, 1)\n",
      "Loss : 6.532642832573375 | order : (1, 2, 2)\n",
      "Loss : 6.762970381409326 | order : (1, 2, 3)\n",
      "Loss : 6.770948788684248 | order : (1, 2, 4)\n",
      "Loss : 110.23539849163944 | order : (1, 3, 0)\n",
      "Loss : 24.51029987644498 | order : (1, 3, 1)\n",
      "Loss : 7.123417119180635 | order : (1, 3, 2)\n",
      "Loss : 6.550478869050823 | order : (1, 3, 3)\n",
      "Loss : 6.783355837424515 | order : (1, 3, 4)\n",
      "Loss : 317.75173557694615 | order : (1, 4, 0)\n",
      "Loss : 115.92104138449037 | order : (1, 4, 1)\n",
      "Loss : 27.834979747281103 | order : (1, 4, 2)\n",
      "Loss : 6.863673337835165 | order : (1, 4, 3)\n",
      "Loss : 9.59893617749367 | order : (1, 4, 4)\n",
      "Loss : 9.319549938857572 | order : (2, 0, 0)\n",
      "Loss : 9.397764820875746 | order : (2, 0, 1)\n",
      "Loss : 9.545871382736474 | order : (2, 0, 2)\n",
      "Loss : 9.968180193209253 | order : (2, 0, 3)\n",
      "Loss : 9.888293059181409 | order : (2, 0, 4)\n",
      "Loss : 6.2321421009414255 | order : (2, 1, 0)\n",
      "Loss : 7.811311692178749 | order : (2, 1, 1)\n",
      "Loss : 7.836726408330847 | order : (2, 1, 2)\n",
      "Loss : 7.788184535185339 | order : (2, 1, 3)\n",
      "Loss : 7.884602576830725 | order : (2, 1, 4)\n",
      "Loss : 16.185185256510866 | order : (2, 2, 0)\n",
      "Loss : 6.1060242126797455 | order : (2, 2, 1)\n",
      "Loss : 6.425588325031697 | order : (2, 2, 2)\n",
      "Loss : 6.639794516715355 | order : (2, 2, 3)\n",
      "Loss : 6.889428302956405 | order : (2, 2, 4)\n",
      "Loss : 83.6095604036189 | order : (2, 3, 0)\n",
      "Loss : 16.77569509741746 | order : (2, 3, 1)\n",
      "Loss : 6.244641233534124 | order : (2, 3, 2)\n",
      "Loss : 7.5684238407434075 | order : (2, 3, 3)\n",
      "Loss : 7.448334706653677 | order : (2, 3, 4)\n",
      "Loss : 95.25552524790763 | order : (2, 4, 0)\n",
      "Loss : 89.32639797079426 | order : (2, 4, 1)\n",
      "Loss : 18.26167991572809 | order : (2, 4, 2)\n",
      "Loss : 5305861.34661745 | order : (2, 4, 3)\n",
      "Loss : 6.863121076040293 | order : (2, 4, 4)\n",
      "Loss : 9.501299152209965 | order : (3, 0, 0)\n",
      "Loss : 9.518881778718182 | order : (3, 0, 1)\n",
      "Loss : 10.201074464708492 | order : (3, 0, 2)\n",
      "Loss : 8.747772129816262 | order : (3, 0, 3)\n",
      "Loss : 9.984649461755872 | order : (3, 0, 4)\n",
      "Loss : 5.891972743259002 | order : (3, 1, 0)\n",
      "Loss : 7.90139308780187 | order : (3, 1, 1)\n",
      "Loss : 8.078304313131516 | order : (3, 1, 2)\n",
      "Loss : 8.471879295114105 | order : (3, 1, 3)\n",
      "Loss : 7.587092143671223 | order : (3, 1, 4)\n",
      "Loss : 10.896851933094693 | order : (3, 2, 0)\n",
      "Loss : 5.783273627424883 | order : (3, 2, 1)\n",
      "Loss : 6.412019056204238 | order : (3, 2, 2)\n",
      "Loss : 6.588594512267704 | order : (3, 2, 3)\n",
      "Loss : 6.8186358290035525 | order : (3, 2, 4)\n",
      "Loss : 88.92785979671504 | order : (3, 3, 0)\n",
      "Loss : 11.548735926778827 | order : (3, 3, 1)\n",
      "Loss : 18.660343643489874 | order : (3, 3, 2)\n",
      "Loss : 6.604048925544015 | order : (3, 3, 3)\n",
      "Loss : 7.075622363861313 | order : (3, 3, 4)\n",
      "Loss : 302.2869473718287 | order : (3, 4, 0)\n",
      "Loss : 95.03496544710684 | order : (3, 4, 1)\n",
      "Loss : 105.55171068051625 | order : (3, 4, 2)\n",
      "Loss : 20.56455531918644 | order : (3, 4, 3)\n",
      "Loss : 14.855799496334583 | order : (3, 4, 4)\n",
      "Loss : 9.58019297007617 | order : (4, 0, 0)\n",
      "Loss : 9.647463848800319 | order : (4, 0, 1)\n",
      "Loss : 9.917173988552966 | order : (4, 0, 2)\n",
      "Loss : 8.797672791387974 | order : (4, 0, 3)\n",
      "Loss : 8.779545072030206 | order : (4, 0, 4)\n",
      "Loss : 5.915739340893847 | order : (4, 1, 0)\n",
      "Loss : 8.045686735785257 | order : (4, 1, 1)\n",
      "Loss : 7.982136757019332 | order : (4, 1, 2)\n",
      "Loss : 8.3327231103275 | order : (4, 1, 3)\n",
      "Loss : 7.872697182895956 | order : (4, 1, 4)\n",
      "Loss : 6.3547612502981305 | order : (4, 2, 0)\n",
      "Loss : 5.786777036977066 | order : (4, 2, 1)\n",
      "Loss : 6.823235424265739 | order : (4, 2, 2)\n",
      "Loss : 6.001012581503257 | order : (4, 2, 3)\n",
      "Loss : 6.803889695919416 | order : (4, 2, 4)\n",
      "Loss : 27.32419705254308 | order : (4, 3, 0)\n",
      "Loss : 6.029178485348368 | order : (4, 3, 1)\n",
      "Loss : 5.8026229967373935 | order : (4, 3, 2)\n",
      "Loss : 5.751910703181551 | order : (4, 3, 3)\n",
      "Loss : 6.683817039106372 | order : (4, 3, 4)\n",
      "Loss : 104.99904224289821 | order : (4, 4, 0)\n",
      "Loss : 29.50918071477085 | order : (4, 4, 1)\n",
      "Loss : 5.79400639834788 | order : (4, 4, 2)\n",
      "Loss : 6.814465745625199 | order : (4, 4, 3)\n",
      "Loss : 14.85936616200197 | order : (4, 4, 4)\n"
     ]
    }
   ],
   "source": [
    "p=5\n",
    "d=5\n",
    "q=5\n",
    "for i in range(p):\n",
    "    for j in range(d):\n",
    "        for k in range(q):\n",
    "            order = (i, j, k)\n",
    "            model = ARIMA(train_df.Number5, order=order)\n",
    "            model_fit = model.fit()\n",
    "            y_pred = model_fit.forecast(steps=len(test_df.Number5))\n",
    "            y_predicted = [i for i in y_pred]\n",
    "            losses = loss(test_df.Number5, y_predicted)\n",
    "            print(f\"Loss : {losses} | order : {order}\")"
   ]
  },
  {
   "cell_type": "code",
   "execution_count": 75,
   "id": "rural-massachusetts",
   "metadata": {},
   "outputs": [],
   "source": [
    "#4, 3, 3"
   ]
  },
  {
   "cell_type": "code",
   "execution_count": 76,
   "id": "accredited-roulette",
   "metadata": {},
   "outputs": [
    {
     "data": {
      "text/plain": [
       "81    42.058953\n",
       "82    42.943368\n",
       "83    44.186932\n",
       "Name: predicted_mean, dtype: float64"
      ]
     },
     "execution_count": 76,
     "metadata": {},
     "output_type": "execute_result"
    }
   ],
   "source": [
    "model_for_number5 = ARIMA(df8.Number5, order=(4, 3, 3))\n",
    "model_fit = model_for_number5.fit()\n",
    "y_pred_number5 = model_fit.forecast(steps=3)\n",
    "y_pred_number5"
   ]
  },
  {
   "cell_type": "markdown",
   "id": "satisfied-pressure",
   "metadata": {},
   "source": [
    "# Number6"
   ]
  },
  {
   "cell_type": "code",
   "execution_count": 77,
   "id": "harmful-sympathy",
   "metadata": {},
   "outputs": [],
   "source": [
    "train_df, test_df = split(df8)"
   ]
  },
  {
   "cell_type": "code",
   "execution_count": 78,
   "id": "impaired-cuisine",
   "metadata": {},
   "outputs": [
    {
     "name": "stdout",
     "output_type": "stream",
     "text": [
      "Loss : 28.364859841813942 | order : (0, 0, 0)\n",
      "Loss : 27.182561041142435 | order : (0, 0, 1)\n",
      "Loss : 25.714011381539706 | order : (0, 0, 2)\n",
      "Loss : 25.019109119316948 | order : (0, 0, 3)\n",
      "Loss : 23.56067548660696 | order : (0, 0, 4)\n",
      "Loss : 0.0 | order : (0, 1, 0)\n",
      "Loss : 0.0106394747496138 | order : (0, 1, 1)\n",
      "Loss : 0.0036628962913390333 | order : (0, 1, 2)\n",
      "Loss : 0.010300772230175668 | order : (0, 1, 3)\n",
      "Loss : 0.0035726159484936156 | order : (0, 1, 4)\n",
      "Loss : 0.0 | order : (0, 2, 0)\n",
      "Loss : 2.878766846637665 | order : (0, 2, 1)\n",
      "Loss : 4.110190336811647 | order : (0, 2, 2)\n",
      "Loss : 3.9506503662319448 | order : (0, 2, 3)\n",
      "Loss : 4.140889058676417 | order : (0, 2, 4)\n",
      "Loss : 1.1903299669565797e-101 | order : (0, 3, 0)\n",
      "Loss : 0.006814257630346716 | order : (0, 3, 1)\n",
      "Loss : 3.274894629358991 | order : (0, 3, 2)\n",
      "Loss : 8.66743574567501 | order : (0, 3, 3)\n",
      "Loss : 8.485563689612516 | order : (0, 3, 4)\n",
      "Loss : 9.224540543319532e-73 | order : (0, 4, 0)\n",
      "Loss : 9.685099669611889 | order : (0, 4, 1)\n",
      "Loss : 6.913021921490927 | order : (0, 4, 2)\n",
      "Loss : 23.94090758840351 | order : (0, 4, 3)\n",
      "Loss : 2.613569783348288 | order : (0, 4, 4)\n",
      "Loss : 19.53985083187984 | order : (1, 0, 0)\n",
      "Loss : 3.5592698053835887 | order : (1, 0, 1)\n",
      "Loss : 3.7127849011177374 | order : (1, 0, 2)\n",
      "Loss : 3.685844910922961 | order : (1, 0, 3)\n",
      "Loss : 3.62248440043854 | order : (1, 0, 4)\n",
      "Loss : 0.0 | order : (1, 1, 0)\n",
      "Loss : 0.003733827417654636 | order : (1, 1, 1)\n",
      "Loss : 0.004692460012462713 | order : (1, 1, 2)\n",
      "Loss : 0.02521450388660577 | order : (1, 1, 3)\n",
      "Loss : 0.022655678854154232 | order : (1, 1, 4)\n",
      "Loss : 1.1873043071483758e-95 | order : (1, 2, 0)\n",
      "Loss : 3.103870646038526 | order : (1, 2, 1)\n",
      "Loss : 3.9447043186051363 | order : (1, 2, 2)\n",
      "Loss : 4.118148958374483 | order : (1, 2, 3)\n",
      "Loss : 3.8619132775085347 | order : (1, 2, 4)\n",
      "Loss : 6.48359128915991e-65 | order : (1, 3, 0)\n",
      "Loss : 1.655134604003275 | order : (1, 3, 1)\n",
      "Loss : 8.158822821425277 | order : (1, 3, 2)\n",
      "Loss : 8.451715268423017 | order : (1, 3, 3)\n",
      "Loss : 0.5655147953335168 | order : (1, 3, 4)\n",
      "Loss : 1.346773833022196e-47 | order : (1, 4, 0)\n",
      "Loss : 2.3453710093881117 | order : (1, 4, 1)\n",
      "Loss : 5.261550919449122 | order : (1, 4, 2)\n",
      "Loss : 13.07316091829954 | order : (1, 4, 3)\n",
      "Loss : 31.196131049741908 | order : (1, 4, 4)\n",
      "Loss : 10.62828790322931 | order : (2, 0, 0)\n",
      "Loss : 3.7225598109040923 | order : (2, 0, 1)\n",
      "Loss : 3.710028788000578 | order : (2, 0, 2)\n",
      "Loss : 3.6694504558212135 | order : (2, 0, 3)\n",
      "Loss : 3.4307581214681058 | order : (2, 0, 4)\n",
      "Loss : 3.466656432816348e-117 | order : (2, 1, 0)\n",
      "Loss : 0.007641673405739564 | order : (2, 1, 1)\n",
      "Loss : 0.012608563678154012 | order : (2, 1, 2)\n",
      "Loss : 1.365142067453798 | order : (2, 1, 3)\n",
      "Loss : 1.7729940208277437 | order : (2, 1, 4)\n",
      "Loss : 3.7464417096647974e-86 | order : (2, 2, 0)\n",
      "Loss : 3.1311549949660704 | order : (2, 2, 1)\n",
      "Loss : 3.083801908195027 | order : (2, 2, 2)\n",
      "Loss : 3.8414333572410877 | order : (2, 2, 3)\n",
      "Loss : 4.5488479757057325 | order : (2, 2, 4)\n",
      "Loss : 1.8789472325405042e-48 | order : (2, 3, 0)\n",
      "Loss : 1.2156344894514055 | order : (2, 3, 1)\n",
      "Loss : 8.452807243272543 | order : (2, 3, 2)\n",
      "Loss : 7.533713346279264 | order : (2, 3, 3)\n",
      "Loss : 7.829466073169773 | order : (2, 3, 4)\n",
      "Loss : 1.8578965442946362e-44 | order : (2, 4, 0)\n",
      "Loss : 3.9360906599252274 | order : (2, 4, 1)\n",
      "Loss : 7.014331746821442 | order : (2, 4, 2)\n",
      "Loss : 10.20947053865076 | order : (2, 4, 3)\n",
      "Loss : 13.68563327339928 | order : (2, 4, 4)\n",
      "Loss : 7.609326848593679 | order : (3, 0, 0)\n",
      "Loss : 3.698531914069925 | order : (3, 0, 1)\n",
      "Loss : 3.8260382623219042 | order : (3, 0, 2)\n",
      "Loss : 4.80201574018005 | order : (3, 0, 3)\n",
      "Loss : 3.850116172190286 | order : (3, 0, 4)\n",
      "Loss : 1.509478446020345e-91 | order : (3, 1, 0)\n",
      "Loss : 0.00209717276516905 | order : (3, 1, 1)\n",
      "Loss : 0.02397907837783736 | order : (3, 1, 2)\n",
      "Loss : 1.57206303996869 | order : (3, 1, 3)\n",
      "Loss : 2.8719595016518022 | order : (3, 1, 4)\n",
      "Loss : 2.7684228112195338e-55 | order : (3, 2, 0)\n",
      "Loss : 3.233998824594312 | order : (3, 2, 1)\n",
      "Loss : 3.1006618543174613 | order : (3, 2, 2)\n",
      "Loss : 3.9271441221091665 | order : (3, 2, 3)\n",
      "Loss : 4.425993458383082 | order : (3, 2, 4)\n",
      "Loss : 4.064686481835914e-47 | order : (3, 3, 0)\n",
      "Loss : 0.8883276204936896 | order : (3, 3, 1)\n",
      "Loss : 1.178120354238198 | order : (3, 3, 2)\n",
      "Loss : 8.13747763970939 | order : (3, 3, 3)\n",
      "Loss : 8.488253698186428 | order : (3, 3, 4)\n",
      "Loss : 3.7273450604161824e-30 | order : (3, 4, 0)\n",
      "Loss : 3.8063231961053803 | order : (3, 4, 1)\n",
      "Loss : 3.8666393058466744 | order : (3, 4, 2)\n",
      "Loss : 7.328706228242966 | order : (3, 4, 3)\n",
      "Loss : 10.325232549245856 | order : (3, 4, 4)\n",
      "Loss : 6.151834377243988 | order : (4, 0, 0)\n",
      "Loss : 3.6086149680905777 | order : (4, 0, 1)\n",
      "Loss : 3.743240872754643 | order : (4, 0, 2)\n",
      "Loss : 3.7623155917203572 | order : (4, 0, 3)\n",
      "Loss : 3.573557005945325 | order : (4, 0, 4)\n",
      "Loss : 1.935489098448973e-58 | order : (4, 1, 0)\n",
      "Loss : 3.1828190937947918e-12 | order : (4, 1, 1)\n",
      "Loss : 5.43979363489906e-05 | order : (4, 1, 2)\n",
      "Loss : 2.0379818886716015 | order : (4, 1, 3)\n",
      "Loss : 2.463629039431424 | order : (4, 1, 4)\n",
      "Loss : 7.589586876478524e-48 | order : (4, 2, 0)\n",
      "Loss : 3.559788289435105 | order : (4, 2, 1)\n",
      "Loss : 3.5015052525851487 | order : (4, 2, 2)\n",
      "Loss : 4.98496481409178 | order : (4, 2, 3)\n",
      "Loss : 4.983597338234456 | order : (4, 2, 4)\n",
      "Loss : 2.9870034938389866e-40 | order : (4, 3, 0)\n",
      "Loss : 0.36491832462567214 | order : (4, 3, 1)\n",
      "Loss : 8.283257612525105 | order : (4, 3, 2)\n",
      "Loss : 10.857648147944438 | order : (4, 3, 3)\n",
      "Loss : 10.066887631037341 | order : (4, 3, 4)\n",
      "Loss : 6.0675705570649e-30 | order : (4, 4, 0)\n",
      "Loss : 2.0275451439981524 | order : (4, 4, 1)\n",
      "Loss : 5.854207075902123 | order : (4, 4, 2)\n",
      "Loss : 5.117278613069815 | order : (4, 4, 3)\n",
      "Loss : 1.086420913512169 | order : (4, 4, 4)\n"
     ]
    }
   ],
   "source": [
    "p=5\n",
    "d=5\n",
    "q=5\n",
    "for i in range(p):\n",
    "    for j in range(d):\n",
    "        for k in range(q):\n",
    "            order = (i, j, k)\n",
    "            model = ARIMA(train_df.Number6, order=order)\n",
    "            model_fit = model.fit()\n",
    "            y_pred = model_fit.forecast(steps=len(test_df.Number6))\n",
    "            y_predicted = [i for i in y_pred]\n",
    "            losses = loss(test_df.Number6, y_predicted)\n",
    "            print(f\"Loss : {losses} | order : {order}\")"
   ]
  },
  {
   "cell_type": "code",
   "execution_count": 79,
   "id": "answering-imaging",
   "metadata": {},
   "outputs": [],
   "source": [
    "#1, 1, 0"
   ]
  },
  {
   "cell_type": "code",
   "execution_count": 80,
   "id": "blind-edward",
   "metadata": {},
   "outputs": [
    {
     "data": {
      "text/plain": [
       "81    5.434722e-323\n",
       "82    8.893182e-323\n",
       "83    6.916919e-323\n",
       "Name: predicted_mean, dtype: float64"
      ]
     },
     "execution_count": 80,
     "metadata": {},
     "output_type": "execute_result"
    }
   ],
   "source": [
    "model_for_number6 = ARIMA(df8.Number6, order=(1,1,0))\n",
    "model_fit = model_for_number6.fit()\n",
    "y_pred_number6 = model_fit.forecast(steps=3)\n",
    "y_pred_number6"
   ]
  },
  {
   "cell_type": "code",
   "execution_count": 83,
   "id": "imported-organ",
   "metadata": {},
   "outputs": [
    {
     "data": {
      "text/plain": [
       "7e-323"
      ]
     },
     "execution_count": 83,
     "metadata": {},
     "output_type": "execute_result"
    }
   ],
   "source": [
    "y_pred_number6.iloc[2]"
   ]
  },
  {
   "cell_type": "markdown",
   "id": "coupled-estimate",
   "metadata": {},
   "source": [
    "# Result"
   ]
  },
  {
   "cell_type": "markdown",
   "id": "ongoing-saturn",
   "metadata": {},
   "source": [
    "## Numbers Forecasted"
   ]
  },
  {
   "cell_type": "code",
   "execution_count": 84,
   "id": "handled-sugar",
   "metadata": {},
   "outputs": [
    {
     "data": {
      "text/plain": [
       "[[6.151313403613273,\n",
       "  17.720960006141084,\n",
       "  27.640214212795954,\n",
       "  37.622134076236584,\n",
       "  42.05895261278573,\n",
       "  5.4e-323],\n",
       " [5.160422292137768,\n",
       "  15.709797394509689,\n",
       "  24.762917247662177,\n",
       "  37.82233858563517,\n",
       "  42.9433676399125,\n",
       "  9e-323],\n",
       " [7.485227040253564,\n",
       "  13.441320599191915,\n",
       "  27.834391204084582,\n",
       "  38.0259227862302,\n",
       "  44.18693159212886,\n",
       "  7e-323]]"
      ]
     },
     "execution_count": 84,
     "metadata": {},
     "output_type": "execute_result"
    }
   ],
   "source": [
    "result = []\n",
    "for i in range(3):\n",
    "    numbers_guess = [y_pred_number1.iloc[i], y_pred_number2.iloc[i], y_pred_number3.iloc[i], y_pred_number4.iloc[i], y_pred_number5.iloc[i], y_pred_number6.iloc[i]]\n",
    "    result.append(numbers_guess)\n",
    "    \n",
    "result"
   ]
  },
  {
   "cell_type": "code",
   "execution_count": 85,
   "id": "graphic-cocktail",
   "metadata": {},
   "outputs": [
    {
     "data": {
      "text/plain": [
       "[[6.0, 18.0, 28.0, 38.0, 42.0, 0.0],\n",
       " [5.0, 16.0, 25.0, 38.0, 43.0, 0.0],\n",
       " [7.0, 13.0, 28.0, 38.0, 44.0, 0.0]]"
      ]
     },
     "execution_count": 85,
     "metadata": {},
     "output_type": "execute_result"
    }
   ],
   "source": [
    "rounded_numbers = []\n",
    "for i in result:\n",
    "    rounded_numbers.append([round(j, 0) for j in i])\n",
    "\n",
    "rounded_numbers"
   ]
  },
  {
   "cell_type": "code",
   "execution_count": 87,
   "id": "different-hometown",
   "metadata": {
    "scrolled": true
   },
   "outputs": [
    {
     "data": {
      "text/plain": [
       "[[6, 18, 28, 38, 42, 0], [5, 16, 25, 38, 43, 0], [7, 13, 28, 38, 44, 0]]"
      ]
     },
     "execution_count": 87,
     "metadata": {},
     "output_type": "execute_result"
    }
   ],
   "source": [
    "values = []\n",
    "for i in rounded_numbers:\n",
    "    values.append(list(map(int, i)))\n",
    "\n",
    "values"
   ]
  },
  {
   "cell_type": "code",
   "execution_count": 88,
   "id": "crucial-magnitude",
   "metadata": {},
   "outputs": [
    {
     "data": {
      "text/plain": [
       "[['6', '18', '28', '38', '42', '0'],\n",
       " ['5', '16', '25', '38', '43', '0'],\n",
       " ['7', '13', '28', '38', '44', '0']]"
      ]
     },
     "execution_count": 88,
     "metadata": {},
     "output_type": "execute_result"
    }
   ],
   "source": [
    "final_number = []\n",
    "for i in values:\n",
    "    final_number.append(list(map(str, i)))\n",
    "final_number"
   ]
  },
  {
   "cell_type": "code",
   "execution_count": 89,
   "id": "satisfied-skill",
   "metadata": {},
   "outputs": [
    {
     "data": {
      "text/plain": [
       "['6 18 28 38 42 0', '5 16 25 38 43 0', '7 13 28 38 44 0']"
      ]
     },
     "execution_count": 89,
     "metadata": {},
     "output_type": "execute_result"
    }
   ],
   "source": [
    "answer = []\n",
    "for i in final_number:\n",
    "    answer.append(\" \".join(i))\n",
    "answer"
   ]
  },
  {
   "cell_type": "code",
   "execution_count": 90,
   "id": "romantic-azerbaijan",
   "metadata": {},
   "outputs": [
    {
     "name": "stdout",
     "output_type": "stream",
     "text": [
      "6 18 28 38 42 0\n",
      "5 16 25 38 43 0\n",
      "7 13 28 38 44 0\n"
     ]
    }
   ],
   "source": [
    "for i in answer:\n",
    "    print(i)"
   ]
  },
  {
   "cell_type": "code",
   "execution_count": null,
   "id": "comprehensive-standing",
   "metadata": {},
   "outputs": [],
   "source": []
  }
 ],
 "metadata": {
  "kernelspec": {
   "display_name": "Python 3 (ipykernel)",
   "language": "python",
   "name": "python3"
  },
  "language_info": {
   "codemirror_mode": {
    "name": "ipython",
    "version": 3
   },
   "file_extension": ".py",
   "mimetype": "text/x-python",
   "name": "python",
   "nbconvert_exporter": "python",
   "pygments_lexer": "ipython3",
   "version": "3.9.2"
  }
 },
 "nbformat": 4,
 "nbformat_minor": 5
}
